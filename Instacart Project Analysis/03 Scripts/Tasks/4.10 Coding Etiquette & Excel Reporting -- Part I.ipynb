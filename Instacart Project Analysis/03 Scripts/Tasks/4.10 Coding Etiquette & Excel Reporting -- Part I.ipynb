{
 "cells": [
  {
   "cell_type": "markdown",
   "id": "f4705b35",
   "metadata": {},
   "source": [
    "### Table Content\n",
    "    01. Importing the newest dataframe\n",
    "    02. Merging department dataframe with the newestdatafram\n",
    "    03. PII\n",
    "    04. Group States into Regions\n",
    "    05. Creating exclusion flag for low-activity customers\n",
    "    06. Creating customer profiles\n",
    "        a. Age profile\n",
    "        b. Income profile\n",
    "        c. Number of Dependants Profile\n",
    "        d. bakery Profile\n",
    "        e. Frozen Profile\n",
    "     \n",
    "    07. Aggregating the max, mean, and min variables on a customer-profile level for usage frequency and expenditure.\n",
    "        a. Age profile aggregation\n",
    "        b. Income profile aggregation\n",
    "        c. Number of Dependants Profile aggregation\n",
    "        d. bakery Profile aggregation\n",
    "        e. Frozen Profile aggregation\n",
    "        \n",
    "    08. Creating visualizations to show the distribution of profiles\n",
    "        a. Age profile distribution\n",
    "        b. Income profile distribution\n",
    "        c. Number of Dependants Profile distribution\n",
    "        d. bakery Profile distribution\n",
    "        e. Frozen Profile distribution\n",
    "        \n",
    "    09. Exporting visualizations"
   ]
  },
  {
   "cell_type": "code",
   "execution_count": 3,
   "id": "80495d49",
   "metadata": {},
   "outputs": [],
   "source": [
    "# Import libarires\n",
    "import pandas as pd\n",
    "import numpy as np\n",
    "import os\n",
    "import matplotlib.pyplot as plt\n",
    "import matplotlib.style as style\n",
    "import seaborn as sns\n",
    "import scipy"
   ]
  },
  {
   "cell_type": "code",
   "execution_count": 203,
   "id": "9ac22c69",
   "metadata": {},
   "outputs": [],
   "source": [
    "# Create a pth to import or export the dataframe\n",
    "path = r'C:\\Users\\SuperHome\\Documents\\Instacart Basket Analysis'"
   ]
  },
  {
   "cell_type": "markdown",
   "id": "3076f978",
   "metadata": {},
   "source": [
    "###     01. Importing the newest dataframe"
   ]
  },
  {
   "cell_type": "code",
   "execution_count": 5,
   "id": "98ca9e70",
   "metadata": {},
   "outputs": [],
   "source": [
    "# Import the newest dataframe that merged by dataframe 'customers'\n",
    "ord_pro_all = pd.read_pickle(os.path.join(path,'02 Data','Prepared Data','order_product_all.pkl' ))"
   ]
  },
  {
   "cell_type": "code",
   "execution_count": 204,
   "id": "fc67c3e2",
   "metadata": {
    "scrolled": true
   },
   "outputs": [
    {
     "data": {
      "text/html": [
       "<div>\n",
       "<style scoped>\n",
       "    .dataframe tbody tr th:only-of-type {\n",
       "        vertical-align: middle;\n",
       "    }\n",
       "\n",
       "    .dataframe tbody tr th {\n",
       "        vertical-align: top;\n",
       "    }\n",
       "\n",
       "    .dataframe thead th {\n",
       "        text-align: right;\n",
       "    }\n",
       "</style>\n",
       "<table border=\"1\" class=\"dataframe\">\n",
       "  <thead>\n",
       "    <tr style=\"text-align: right;\">\n",
       "      <th></th>\n",
       "      <th>user_id</th>\n",
       "      <th>Gender</th>\n",
       "      <th>State</th>\n",
       "      <th>Age</th>\n",
       "      <th>n_dependants</th>\n",
       "      <th>fam_status</th>\n",
       "      <th>income</th>\n",
       "      <th>order_id</th>\n",
       "      <th>order_number</th>\n",
       "      <th>day_of_week</th>\n",
       "      <th>...</th>\n",
       "      <th>prices</th>\n",
       "      <th>price_label</th>\n",
       "      <th>two_busiest_days</th>\n",
       "      <th>busiest_period_of_day</th>\n",
       "      <th>max_order</th>\n",
       "      <th>loyalty_flag</th>\n",
       "      <th>average_product_price</th>\n",
       "      <th>spending_flag</th>\n",
       "      <th>median_days_since_prior_order</th>\n",
       "      <th>frequency_flag</th>\n",
       "    </tr>\n",
       "  </thead>\n",
       "  <tbody>\n",
       "    <tr>\n",
       "      <th>0</th>\n",
       "      <td>26711</td>\n",
       "      <td>Female</td>\n",
       "      <td>Missouri</td>\n",
       "      <td>48</td>\n",
       "      <td>3</td>\n",
       "      <td>married</td>\n",
       "      <td>165665</td>\n",
       "      <td>2543867</td>\n",
       "      <td>5</td>\n",
       "      <td>1</td>\n",
       "      <td>...</td>\n",
       "      <td>9.0</td>\n",
       "      <td>Mid-range product</td>\n",
       "      <td>two-busiest days</td>\n",
       "      <td>Most orders</td>\n",
       "      <td>8</td>\n",
       "      <td>New customer</td>\n",
       "      <td>7.988889</td>\n",
       "      <td>Low spender</td>\n",
       "      <td>19.0</td>\n",
       "      <td>Regular customer</td>\n",
       "    </tr>\n",
       "    <tr>\n",
       "      <th>1</th>\n",
       "      <td>26711</td>\n",
       "      <td>Female</td>\n",
       "      <td>Missouri</td>\n",
       "      <td>48</td>\n",
       "      <td>3</td>\n",
       "      <td>married</td>\n",
       "      <td>165665</td>\n",
       "      <td>1285508</td>\n",
       "      <td>7</td>\n",
       "      <td>5</td>\n",
       "      <td>...</td>\n",
       "      <td>9.0</td>\n",
       "      <td>Mid-range product</td>\n",
       "      <td>regular-busy days</td>\n",
       "      <td>Most orders</td>\n",
       "      <td>8</td>\n",
       "      <td>New customer</td>\n",
       "      <td>7.988889</td>\n",
       "      <td>Low spender</td>\n",
       "      <td>19.0</td>\n",
       "      <td>Regular customer</td>\n",
       "    </tr>\n",
       "    <tr>\n",
       "      <th>2</th>\n",
       "      <td>26711</td>\n",
       "      <td>Female</td>\n",
       "      <td>Missouri</td>\n",
       "      <td>48</td>\n",
       "      <td>3</td>\n",
       "      <td>married</td>\n",
       "      <td>165665</td>\n",
       "      <td>2578584</td>\n",
       "      <td>8</td>\n",
       "      <td>1</td>\n",
       "      <td>...</td>\n",
       "      <td>9.0</td>\n",
       "      <td>Mid-range product</td>\n",
       "      <td>two-busiest days</td>\n",
       "      <td>Most orders</td>\n",
       "      <td>8</td>\n",
       "      <td>New customer</td>\n",
       "      <td>7.988889</td>\n",
       "      <td>Low spender</td>\n",
       "      <td>19.0</td>\n",
       "      <td>Regular customer</td>\n",
       "    </tr>\n",
       "    <tr>\n",
       "      <th>3</th>\n",
       "      <td>26711</td>\n",
       "      <td>Female</td>\n",
       "      <td>Missouri</td>\n",
       "      <td>48</td>\n",
       "      <td>3</td>\n",
       "      <td>married</td>\n",
       "      <td>165665</td>\n",
       "      <td>423547</td>\n",
       "      <td>2</td>\n",
       "      <td>2</td>\n",
       "      <td>...</td>\n",
       "      <td>12.6</td>\n",
       "      <td>Mid-range product</td>\n",
       "      <td>regular-busy days</td>\n",
       "      <td>Most orders</td>\n",
       "      <td>8</td>\n",
       "      <td>New customer</td>\n",
       "      <td>7.988889</td>\n",
       "      <td>Low spender</td>\n",
       "      <td>19.0</td>\n",
       "      <td>Regular customer</td>\n",
       "    </tr>\n",
       "    <tr>\n",
       "      <th>4</th>\n",
       "      <td>26711</td>\n",
       "      <td>Female</td>\n",
       "      <td>Missouri</td>\n",
       "      <td>48</td>\n",
       "      <td>3</td>\n",
       "      <td>married</td>\n",
       "      <td>165665</td>\n",
       "      <td>2524893</td>\n",
       "      <td>3</td>\n",
       "      <td>3</td>\n",
       "      <td>...</td>\n",
       "      <td>12.6</td>\n",
       "      <td>Mid-range product</td>\n",
       "      <td>two-slowest days</td>\n",
       "      <td>Most orders</td>\n",
       "      <td>8</td>\n",
       "      <td>New customer</td>\n",
       "      <td>7.988889</td>\n",
       "      <td>Low spender</td>\n",
       "      <td>19.0</td>\n",
       "      <td>Regular customer</td>\n",
       "    </tr>\n",
       "  </tbody>\n",
       "</table>\n",
       "<p>5 rows × 28 columns</p>\n",
       "</div>"
      ],
      "text/plain": [
       "  user_id  Gender     State  Age  n_dependants fam_status  income order_id  \\\n",
       "0   26711  Female  Missouri   48             3    married  165665  2543867   \n",
       "1   26711  Female  Missouri   48             3    married  165665  1285508   \n",
       "2   26711  Female  Missouri   48             3    married  165665  2578584   \n",
       "3   26711  Female  Missouri   48             3    married  165665   423547   \n",
       "4   26711  Female  Missouri   48             3    married  165665  2524893   \n",
       "\n",
       "   order_number  day_of_week  ...  prices        price_label  \\\n",
       "0             5            1  ...     9.0  Mid-range product   \n",
       "1             7            5  ...     9.0  Mid-range product   \n",
       "2             8            1  ...     9.0  Mid-range product   \n",
       "3             2            2  ...    12.6  Mid-range product   \n",
       "4             3            3  ...    12.6  Mid-range product   \n",
       "\n",
       "    two_busiest_days  busiest_period_of_day  max_order  loyalty_flag  \\\n",
       "0   two-busiest days            Most orders          8  New customer   \n",
       "1  regular-busy days            Most orders          8  New customer   \n",
       "2   two-busiest days            Most orders          8  New customer   \n",
       "3  regular-busy days            Most orders          8  New customer   \n",
       "4   two-slowest days            Most orders          8  New customer   \n",
       "\n",
       "   average_product_price  spending_flag  median_days_since_prior_order  \\\n",
       "0               7.988889    Low spender                           19.0   \n",
       "1               7.988889    Low spender                           19.0   \n",
       "2               7.988889    Low spender                           19.0   \n",
       "3               7.988889    Low spender                           19.0   \n",
       "4               7.988889    Low spender                           19.0   \n",
       "\n",
       "     frequency_flag  \n",
       "0  Regular customer  \n",
       "1  Regular customer  \n",
       "2  Regular customer  \n",
       "3  Regular customer  \n",
       "4  Regular customer  \n",
       "\n",
       "[5 rows x 28 columns]"
      ]
     },
     "execution_count": 204,
     "metadata": {},
     "output_type": "execute_result"
    }
   ],
   "source": [
    "# Checking dataframe after importing\n",
    "ord_pro_all.head()"
   ]
  },
  {
   "cell_type": "markdown",
   "id": "45c1fad6",
   "metadata": {},
   "source": [
    "###    02. Merging department dataframe with the newestdatafram"
   ]
  },
  {
   "cell_type": "code",
   "execution_count": 206,
   "id": "47ee48e1",
   "metadata": {},
   "outputs": [],
   "source": [
    "# Import departments\n",
    "depart = pd.read_csv(os.path.join(path,'02 Data','Prepared Data','department_wrangled.csv'), index_col=False)"
   ]
  },
  {
   "cell_type": "code",
   "execution_count": 207,
   "id": "7a562ce2",
   "metadata": {},
   "outputs": [
    {
     "data": {
      "text/html": [
       "<div>\n",
       "<style scoped>\n",
       "    .dataframe tbody tr th:only-of-type {\n",
       "        vertical-align: middle;\n",
       "    }\n",
       "\n",
       "    .dataframe tbody tr th {\n",
       "        vertical-align: top;\n",
       "    }\n",
       "\n",
       "    .dataframe thead th {\n",
       "        text-align: right;\n",
       "    }\n",
       "</style>\n",
       "<table border=\"1\" class=\"dataframe\">\n",
       "  <thead>\n",
       "    <tr style=\"text-align: right;\">\n",
       "      <th></th>\n",
       "      <th>Unnamed: 0</th>\n",
       "      <th>department</th>\n",
       "    </tr>\n",
       "  </thead>\n",
       "  <tbody>\n",
       "    <tr>\n",
       "      <th>0</th>\n",
       "      <td>1</td>\n",
       "      <td>frozen</td>\n",
       "    </tr>\n",
       "    <tr>\n",
       "      <th>1</th>\n",
       "      <td>2</td>\n",
       "      <td>other</td>\n",
       "    </tr>\n",
       "    <tr>\n",
       "      <th>2</th>\n",
       "      <td>3</td>\n",
       "      <td>bakery</td>\n",
       "    </tr>\n",
       "    <tr>\n",
       "      <th>3</th>\n",
       "      <td>4</td>\n",
       "      <td>produce</td>\n",
       "    </tr>\n",
       "    <tr>\n",
       "      <th>4</th>\n",
       "      <td>5</td>\n",
       "      <td>alcohol</td>\n",
       "    </tr>\n",
       "    <tr>\n",
       "      <th>5</th>\n",
       "      <td>6</td>\n",
       "      <td>international</td>\n",
       "    </tr>\n",
       "    <tr>\n",
       "      <th>6</th>\n",
       "      <td>7</td>\n",
       "      <td>beverages</td>\n",
       "    </tr>\n",
       "    <tr>\n",
       "      <th>7</th>\n",
       "      <td>8</td>\n",
       "      <td>pets</td>\n",
       "    </tr>\n",
       "    <tr>\n",
       "      <th>8</th>\n",
       "      <td>9</td>\n",
       "      <td>dry goods pasta</td>\n",
       "    </tr>\n",
       "    <tr>\n",
       "      <th>9</th>\n",
       "      <td>10</td>\n",
       "      <td>bulk</td>\n",
       "    </tr>\n",
       "    <tr>\n",
       "      <th>10</th>\n",
       "      <td>11</td>\n",
       "      <td>personal care</td>\n",
       "    </tr>\n",
       "    <tr>\n",
       "      <th>11</th>\n",
       "      <td>12</td>\n",
       "      <td>meat seafood</td>\n",
       "    </tr>\n",
       "    <tr>\n",
       "      <th>12</th>\n",
       "      <td>13</td>\n",
       "      <td>pantry</td>\n",
       "    </tr>\n",
       "    <tr>\n",
       "      <th>13</th>\n",
       "      <td>14</td>\n",
       "      <td>breakfast</td>\n",
       "    </tr>\n",
       "    <tr>\n",
       "      <th>14</th>\n",
       "      <td>15</td>\n",
       "      <td>canned goods</td>\n",
       "    </tr>\n",
       "    <tr>\n",
       "      <th>15</th>\n",
       "      <td>16</td>\n",
       "      <td>dairy eggs</td>\n",
       "    </tr>\n",
       "    <tr>\n",
       "      <th>16</th>\n",
       "      <td>17</td>\n",
       "      <td>household</td>\n",
       "    </tr>\n",
       "    <tr>\n",
       "      <th>17</th>\n",
       "      <td>18</td>\n",
       "      <td>babies</td>\n",
       "    </tr>\n",
       "    <tr>\n",
       "      <th>18</th>\n",
       "      <td>19</td>\n",
       "      <td>snacks</td>\n",
       "    </tr>\n",
       "    <tr>\n",
       "      <th>19</th>\n",
       "      <td>20</td>\n",
       "      <td>deli</td>\n",
       "    </tr>\n",
       "    <tr>\n",
       "      <th>20</th>\n",
       "      <td>21</td>\n",
       "      <td>missing</td>\n",
       "    </tr>\n",
       "  </tbody>\n",
       "</table>\n",
       "</div>"
      ],
      "text/plain": [
       "    Unnamed: 0       department\n",
       "0            1           frozen\n",
       "1            2            other\n",
       "2            3           bakery\n",
       "3            4          produce\n",
       "4            5          alcohol\n",
       "5            6    international\n",
       "6            7        beverages\n",
       "7            8             pets\n",
       "8            9  dry goods pasta\n",
       "9           10             bulk\n",
       "10          11    personal care\n",
       "11          12     meat seafood\n",
       "12          13           pantry\n",
       "13          14        breakfast\n",
       "14          15     canned goods\n",
       "15          16       dairy eggs\n",
       "16          17        household\n",
       "17          18           babies\n",
       "18          19           snacks\n",
       "19          20             deli\n",
       "20          21          missing"
      ]
     },
     "execution_count": 207,
     "metadata": {},
     "output_type": "execute_result"
    }
   ],
   "source": [
    "depart"
   ]
  },
  {
   "cell_type": "code",
   "execution_count": 208,
   "id": "e6d8c9b4",
   "metadata": {},
   "outputs": [],
   "source": [
    "# Renaming column 'Unnamed: 0'\n",
    "depart.rename(columns = {'Unnamed: 0':'department_id'}, inplace=True)"
   ]
  },
  {
   "cell_type": "code",
   "execution_count": 209,
   "id": "5030997c",
   "metadata": {},
   "outputs": [],
   "source": [
    "# Merging dataframe\n",
    "df_final = ord_pro_all.merge(depart, on = ['department_id'])"
   ]
  },
  {
   "cell_type": "code",
   "execution_count": 210,
   "id": "5cfc8538",
   "metadata": {},
   "outputs": [
    {
     "data": {
      "text/plain": [
       "(32404859, 29)"
      ]
     },
     "execution_count": 210,
     "metadata": {},
     "output_type": "execute_result"
    }
   ],
   "source": [
    "df_final.shape"
   ]
  },
  {
   "cell_type": "code",
   "execution_count": 13,
   "id": "5d185e93",
   "metadata": {},
   "outputs": [],
   "source": [
    "# Delete department dataframe as we don't use it anymore \n",
    "del depart"
   ]
  },
  {
   "cell_type": "markdown",
   "id": "15dcd024",
   "metadata": {},
   "source": [
    "###    03. PII\n",
    "    Answer: As the customers original dataframe contains customer's first name and last name which considered as the personally identifiable information(PII) and the first name column contained too many nan values, so before I merge the datafram I created a new dataframe to drop the fist name and last name columns alrady. Therefore,there isn't any information to related about the PII.\n",
    "    "
   ]
  },
  {
   "cell_type": "markdown",
   "id": "f33a3fa9",
   "metadata": {},
   "source": [
    "###    04. Group States into Regions"
   ]
  },
  {
   "cell_type": "code",
   "execution_count": 14,
   "id": "682d2c3f",
   "metadata": {},
   "outputs": [],
   "source": [
    "# Create regions\n",
    "region = []\n",
    "for value in df_final['State']:\n",
    "    if value in ('Maine','New Hampshire','Vermont','Massachusetts','Rhode Island','Connecticut','New York','Pennsylvania','New Jersey'):\n",
    "        region.append('Northeast')\n",
    "    elif value in ('Wisconsin','Michigan','Illinois','Indiana','Ohio','North Dakota','South Dakota','Nebraska','Kansas','Minnesota','Iowa','Missouri'):\n",
    "        region.append('Midwest')\n",
    "    elif value in ('Delaware','Maryland','District of Columbia','Virginia','West Virginia','North Carolina','South Carolina','Georgia','Florida','Kentucky','Tennessee','Mississippi','Alabama','Oklahoma','Texas','Arkansas','Louisiana'):\n",
    "        region.append('South')\n",
    "    elif value in ('Idaho','Montana','Wyoming','Nevada','Utah','Colorado','Arizona','New Mexico','Alaska','Washington','Oregon','California','Hawaii'):\n",
    "        region.append('West')\n",
    "    else:\n",
    "        region.append('Wrong Data')\n"
   ]
  },
  {
   "cell_type": "code",
   "execution_count": 15,
   "id": "595a2d26",
   "metadata": {},
   "outputs": [],
   "source": [
    "df_final['Region'] = region"
   ]
  },
  {
   "cell_type": "code",
   "execution_count": 16,
   "id": "e75abaee",
   "metadata": {},
   "outputs": [
    {
     "data": {
      "text/plain": [
       "4"
      ]
     },
     "execution_count": 16,
     "metadata": {},
     "output_type": "execute_result"
    }
   ],
   "source": [
    "# Checking new column\n",
    "df_final['Region'].nunique() # As we created 4 region groups,so there would be a number 4 for the result"
   ]
  },
  {
   "cell_type": "code",
   "execution_count": 17,
   "id": "9b5772c6",
   "metadata": {},
   "outputs": [
    {
     "data": {
      "text/html": [
       "<div>\n",
       "<style scoped>\n",
       "    .dataframe tbody tr th:only-of-type {\n",
       "        vertical-align: middle;\n",
       "    }\n",
       "\n",
       "    .dataframe tbody tr th {\n",
       "        vertical-align: top;\n",
       "    }\n",
       "\n",
       "    .dataframe thead tr th {\n",
       "        text-align: left;\n",
       "    }\n",
       "\n",
       "    .dataframe thead tr:last-of-type th {\n",
       "        text-align: right;\n",
       "    }\n",
       "</style>\n",
       "<table border=\"1\" class=\"dataframe\">\n",
       "  <thead>\n",
       "    <tr>\n",
       "      <th></th>\n",
       "      <th></th>\n",
       "      <th>Region</th>\n",
       "    </tr>\n",
       "    <tr>\n",
       "      <th></th>\n",
       "      <th></th>\n",
       "      <th>value_counts</th>\n",
       "    </tr>\n",
       "    <tr>\n",
       "      <th>spending_flag</th>\n",
       "      <th>Region</th>\n",
       "      <th></th>\n",
       "    </tr>\n",
       "  </thead>\n",
       "  <tbody>\n",
       "    <tr>\n",
       "      <th rowspan=\"4\" valign=\"top\">High spender</th>\n",
       "      <th>South</th>\n",
       "      <td>40579</td>\n",
       "    </tr>\n",
       "    <tr>\n",
       "      <th>West</th>\n",
       "      <td>31242</td>\n",
       "    </tr>\n",
       "    <tr>\n",
       "      <th>Midwest</th>\n",
       "      <td>29265</td>\n",
       "    </tr>\n",
       "    <tr>\n",
       "      <th>Northeast</th>\n",
       "      <td>18642</td>\n",
       "    </tr>\n",
       "    <tr>\n",
       "      <th rowspan=\"4\" valign=\"top\">Low spender</th>\n",
       "      <th>South</th>\n",
       "      <td>10751306</td>\n",
       "    </tr>\n",
       "    <tr>\n",
       "      <th>West</th>\n",
       "      <td>8261671</td>\n",
       "    </tr>\n",
       "    <tr>\n",
       "      <th>Midwest</th>\n",
       "      <td>7568060</td>\n",
       "    </tr>\n",
       "    <tr>\n",
       "      <th>Northeast</th>\n",
       "      <td>5704094</td>\n",
       "    </tr>\n",
       "  </tbody>\n",
       "</table>\n",
       "</div>"
      ],
      "text/plain": [
       "                              Region\n",
       "                        value_counts\n",
       "spending_flag Region                \n",
       "High spender  South            40579\n",
       "              West             31242\n",
       "              Midwest          29265\n",
       "              Northeast        18642\n",
       "Low spender   South         10751306\n",
       "              West           8261671\n",
       "              Midwest        7568060\n",
       "              Northeast      5704094"
      ]
     },
     "execution_count": 17,
     "metadata": {},
     "output_type": "execute_result"
    }
   ],
   "source": [
    "df_final.groupby('spending_flag').agg({'Region':['value_counts']})"
   ]
  },
  {
   "cell_type": "markdown",
   "id": "2371e2fa",
   "metadata": {},
   "source": [
    "* There are differences between different regions based on the spending habits.\n",
    "\n",
    "* The South region achived the top1 positions on both high spending and low spending and this number of customers are obvisouly than the other regions. Northwest is in the bottom level for both high spending and low spending.\n",
    "\n",
    "* However, we can easy to get that most orders happend on low spending, which can indicates that the low price product seems attract more attention when customers buying the products."
   ]
  },
  {
   "cell_type": "markdown",
   "id": "7492ddf1",
   "metadata": {},
   "source": [
    "###    05. Creating exclusion flag for low-activity customers"
   ]
  },
  {
   "cell_type": "code",
   "execution_count": 18,
   "id": "c8c6ebf5",
   "metadata": {},
   "outputs": [],
   "source": [
    "# Create an exclusion flag based on the max_order column\n",
    "df_final.loc[df_final['max_order'] < 5, 'exclusion_flag'] = 'Exclude'"
   ]
  },
  {
   "cell_type": "code",
   "execution_count": 19,
   "id": "0a9d2ea8",
   "metadata": {},
   "outputs": [
    {
     "data": {
      "text/plain": [
       "Exclude    1440295\n",
       "Name: exclusion_flag, dtype: int64"
      ]
     },
     "execution_count": 19,
     "metadata": {},
     "output_type": "execute_result"
    }
   ],
   "source": [
    "df_final['exclusion_flag'].value_counts()"
   ]
  },
  {
   "cell_type": "code",
   "execution_count": 20,
   "id": "74f50e22",
   "metadata": {},
   "outputs": [],
   "source": [
    "low_activity = df_final.loc[df_final['max_order'] < 5]"
   ]
  },
  {
   "cell_type": "code",
   "execution_count": 21,
   "id": "3e444846",
   "metadata": {},
   "outputs": [
    {
     "data": {
      "text/html": [
       "<div>\n",
       "<style scoped>\n",
       "    .dataframe tbody tr th:only-of-type {\n",
       "        vertical-align: middle;\n",
       "    }\n",
       "\n",
       "    .dataframe tbody tr th {\n",
       "        vertical-align: top;\n",
       "    }\n",
       "\n",
       "    .dataframe thead th {\n",
       "        text-align: right;\n",
       "    }\n",
       "</style>\n",
       "<table border=\"1\" class=\"dataframe\">\n",
       "  <thead>\n",
       "    <tr style=\"text-align: right;\">\n",
       "      <th></th>\n",
       "      <th>user_id</th>\n",
       "      <th>Gender</th>\n",
       "      <th>State</th>\n",
       "      <th>Age</th>\n",
       "      <th>n_dependants</th>\n",
       "      <th>fam_status</th>\n",
       "      <th>income</th>\n",
       "      <th>order_id</th>\n",
       "      <th>order_number</th>\n",
       "      <th>day_of_week</th>\n",
       "      <th>...</th>\n",
       "      <th>busiest_period_of_day</th>\n",
       "      <th>max_order</th>\n",
       "      <th>loyalty_flag</th>\n",
       "      <th>average_product_price</th>\n",
       "      <th>spending_flag</th>\n",
       "      <th>median_days_since_prior_order</th>\n",
       "      <th>frequency_flag</th>\n",
       "      <th>department</th>\n",
       "      <th>Region</th>\n",
       "      <th>exclusion_flag</th>\n",
       "    </tr>\n",
       "  </thead>\n",
       "  <tbody>\n",
       "    <tr>\n",
       "      <th>79</th>\n",
       "      <td>168851</td>\n",
       "      <td>Male</td>\n",
       "      <td>South Carolina</td>\n",
       "      <td>30</td>\n",
       "      <td>0</td>\n",
       "      <td>single</td>\n",
       "      <td>63712</td>\n",
       "      <td>1903574</td>\n",
       "      <td>1</td>\n",
       "      <td>2</td>\n",
       "      <td>...</td>\n",
       "      <td>Average orders</td>\n",
       "      <td>3</td>\n",
       "      <td>New customer</td>\n",
       "      <td>7.485714</td>\n",
       "      <td>Low spender</td>\n",
       "      <td>15.0</td>\n",
       "      <td>Regular customer</td>\n",
       "      <td>beverages</td>\n",
       "      <td>South</td>\n",
       "      <td>Exclude</td>\n",
       "    </tr>\n",
       "    <tr>\n",
       "      <th>80</th>\n",
       "      <td>168851</td>\n",
       "      <td>Male</td>\n",
       "      <td>South Carolina</td>\n",
       "      <td>30</td>\n",
       "      <td>0</td>\n",
       "      <td>single</td>\n",
       "      <td>63712</td>\n",
       "      <td>1193140</td>\n",
       "      <td>2</td>\n",
       "      <td>3</td>\n",
       "      <td>...</td>\n",
       "      <td>Most orders</td>\n",
       "      <td>3</td>\n",
       "      <td>New customer</td>\n",
       "      <td>7.485714</td>\n",
       "      <td>Low spender</td>\n",
       "      <td>15.0</td>\n",
       "      <td>Regular customer</td>\n",
       "      <td>beverages</td>\n",
       "      <td>South</td>\n",
       "      <td>Exclude</td>\n",
       "    </tr>\n",
       "    <tr>\n",
       "      <th>197</th>\n",
       "      <td>9944</td>\n",
       "      <td>Male</td>\n",
       "      <td>Wisconsin</td>\n",
       "      <td>26</td>\n",
       "      <td>1</td>\n",
       "      <td>married</td>\n",
       "      <td>91826</td>\n",
       "      <td>246990</td>\n",
       "      <td>1</td>\n",
       "      <td>1</td>\n",
       "      <td>...</td>\n",
       "      <td>Most orders</td>\n",
       "      <td>4</td>\n",
       "      <td>New customer</td>\n",
       "      <td>8.161798</td>\n",
       "      <td>Low spender</td>\n",
       "      <td>30.0</td>\n",
       "      <td>Non-frequent customer</td>\n",
       "      <td>beverages</td>\n",
       "      <td>Midwest</td>\n",
       "      <td>Exclude</td>\n",
       "    </tr>\n",
       "    <tr>\n",
       "      <th>198</th>\n",
       "      <td>13313</td>\n",
       "      <td>Male</td>\n",
       "      <td>Alaska</td>\n",
       "      <td>31</td>\n",
       "      <td>2</td>\n",
       "      <td>married</td>\n",
       "      <td>91111</td>\n",
       "      <td>30149</td>\n",
       "      <td>3</td>\n",
       "      <td>0</td>\n",
       "      <td>...</td>\n",
       "      <td>Average orders</td>\n",
       "      <td>3</td>\n",
       "      <td>New customer</td>\n",
       "      <td>9.175000</td>\n",
       "      <td>Low spender</td>\n",
       "      <td>11.0</td>\n",
       "      <td>Regular customer</td>\n",
       "      <td>beverages</td>\n",
       "      <td>West</td>\n",
       "      <td>Exclude</td>\n",
       "    </tr>\n",
       "    <tr>\n",
       "      <th>199</th>\n",
       "      <td>13313</td>\n",
       "      <td>Male</td>\n",
       "      <td>Alaska</td>\n",
       "      <td>31</td>\n",
       "      <td>2</td>\n",
       "      <td>married</td>\n",
       "      <td>91111</td>\n",
       "      <td>30149</td>\n",
       "      <td>3</td>\n",
       "      <td>0</td>\n",
       "      <td>...</td>\n",
       "      <td>Average orders</td>\n",
       "      <td>3</td>\n",
       "      <td>New customer</td>\n",
       "      <td>9.175000</td>\n",
       "      <td>Low spender</td>\n",
       "      <td>11.0</td>\n",
       "      <td>Regular customer</td>\n",
       "      <td>beverages</td>\n",
       "      <td>West</td>\n",
       "      <td>Exclude</td>\n",
       "    </tr>\n",
       "    <tr>\n",
       "      <th>...</th>\n",
       "      <td>...</td>\n",
       "      <td>...</td>\n",
       "      <td>...</td>\n",
       "      <td>...</td>\n",
       "      <td>...</td>\n",
       "      <td>...</td>\n",
       "      <td>...</td>\n",
       "      <td>...</td>\n",
       "      <td>...</td>\n",
       "      <td>...</td>\n",
       "      <td>...</td>\n",
       "      <td>...</td>\n",
       "      <td>...</td>\n",
       "      <td>...</td>\n",
       "      <td>...</td>\n",
       "      <td>...</td>\n",
       "      <td>...</td>\n",
       "      <td>...</td>\n",
       "      <td>...</td>\n",
       "      <td>...</td>\n",
       "      <td>...</td>\n",
       "    </tr>\n",
       "    <tr>\n",
       "      <th>32404786</th>\n",
       "      <td>164583</td>\n",
       "      <td>Female</td>\n",
       "      <td>Colorado</td>\n",
       "      <td>41</td>\n",
       "      <td>1</td>\n",
       "      <td>married</td>\n",
       "      <td>100231</td>\n",
       "      <td>973413</td>\n",
       "      <td>2</td>\n",
       "      <td>4</td>\n",
       "      <td>...</td>\n",
       "      <td>Average orders</td>\n",
       "      <td>4</td>\n",
       "      <td>New customer</td>\n",
       "      <td>8.227473</td>\n",
       "      <td>Low spender</td>\n",
       "      <td>25.0</td>\n",
       "      <td>Non-frequent customer</td>\n",
       "      <td>other</td>\n",
       "      <td>West</td>\n",
       "      <td>Exclude</td>\n",
       "    </tr>\n",
       "    <tr>\n",
       "      <th>32404787</th>\n",
       "      <td>164583</td>\n",
       "      <td>Female</td>\n",
       "      <td>Colorado</td>\n",
       "      <td>41</td>\n",
       "      <td>1</td>\n",
       "      <td>married</td>\n",
       "      <td>100231</td>\n",
       "      <td>1833214</td>\n",
       "      <td>3</td>\n",
       "      <td>1</td>\n",
       "      <td>...</td>\n",
       "      <td>Most orders</td>\n",
       "      <td>4</td>\n",
       "      <td>New customer</td>\n",
       "      <td>8.227473</td>\n",
       "      <td>Low spender</td>\n",
       "      <td>25.0</td>\n",
       "      <td>Non-frequent customer</td>\n",
       "      <td>other</td>\n",
       "      <td>West</td>\n",
       "      <td>Exclude</td>\n",
       "    </tr>\n",
       "    <tr>\n",
       "      <th>32404788</th>\n",
       "      <td>164583</td>\n",
       "      <td>Female</td>\n",
       "      <td>Colorado</td>\n",
       "      <td>41</td>\n",
       "      <td>1</td>\n",
       "      <td>married</td>\n",
       "      <td>100231</td>\n",
       "      <td>1788852</td>\n",
       "      <td>4</td>\n",
       "      <td>5</td>\n",
       "      <td>...</td>\n",
       "      <td>Fewest orders</td>\n",
       "      <td>4</td>\n",
       "      <td>New customer</td>\n",
       "      <td>8.227473</td>\n",
       "      <td>Low spender</td>\n",
       "      <td>25.0</td>\n",
       "      <td>Non-frequent customer</td>\n",
       "      <td>other</td>\n",
       "      <td>West</td>\n",
       "      <td>Exclude</td>\n",
       "    </tr>\n",
       "    <tr>\n",
       "      <th>32404853</th>\n",
       "      <td>98736</td>\n",
       "      <td>Male</td>\n",
       "      <td>Wyoming</td>\n",
       "      <td>23</td>\n",
       "      <td>1</td>\n",
       "      <td>married</td>\n",
       "      <td>77233</td>\n",
       "      <td>561019</td>\n",
       "      <td>4</td>\n",
       "      <td>5</td>\n",
       "      <td>...</td>\n",
       "      <td>Average orders</td>\n",
       "      <td>4</td>\n",
       "      <td>New customer</td>\n",
       "      <td>7.427119</td>\n",
       "      <td>Low spender</td>\n",
       "      <td>7.0</td>\n",
       "      <td>Frequent customer</td>\n",
       "      <td>other</td>\n",
       "      <td>West</td>\n",
       "      <td>Exclude</td>\n",
       "    </tr>\n",
       "    <tr>\n",
       "      <th>32404854</th>\n",
       "      <td>177599</td>\n",
       "      <td>Female</td>\n",
       "      <td>Kansas</td>\n",
       "      <td>71</td>\n",
       "      <td>3</td>\n",
       "      <td>married</td>\n",
       "      <td>119306</td>\n",
       "      <td>906710</td>\n",
       "      <td>2</td>\n",
       "      <td>5</td>\n",
       "      <td>...</td>\n",
       "      <td>Most orders</td>\n",
       "      <td>3</td>\n",
       "      <td>New customer</td>\n",
       "      <td>7.797561</td>\n",
       "      <td>Low spender</td>\n",
       "      <td>7.0</td>\n",
       "      <td>Frequent customer</td>\n",
       "      <td>other</td>\n",
       "      <td>Midwest</td>\n",
       "      <td>Exclude</td>\n",
       "    </tr>\n",
       "  </tbody>\n",
       "</table>\n",
       "<p>1440295 rows × 31 columns</p>\n",
       "</div>"
      ],
      "text/plain": [
       "         user_id  Gender           State  Age  n_dependants fam_status  \\\n",
       "79        168851    Male  South Carolina   30             0     single   \n",
       "80        168851    Male  South Carolina   30             0     single   \n",
       "197         9944    Male       Wisconsin   26             1    married   \n",
       "198        13313    Male          Alaska   31             2    married   \n",
       "199        13313    Male          Alaska   31             2    married   \n",
       "...          ...     ...             ...  ...           ...        ...   \n",
       "32404786  164583  Female        Colorado   41             1    married   \n",
       "32404787  164583  Female        Colorado   41             1    married   \n",
       "32404788  164583  Female        Colorado   41             1    married   \n",
       "32404853   98736    Male         Wyoming   23             1    married   \n",
       "32404854  177599  Female          Kansas   71             3    married   \n",
       "\n",
       "          income order_id  order_number  day_of_week  ...  \\\n",
       "79         63712  1903574             1            2  ...   \n",
       "80         63712  1193140             2            3  ...   \n",
       "197        91826   246990             1            1  ...   \n",
       "198        91111    30149             3            0  ...   \n",
       "199        91111    30149             3            0  ...   \n",
       "...          ...      ...           ...          ...  ...   \n",
       "32404786  100231   973413             2            4  ...   \n",
       "32404787  100231  1833214             3            1  ...   \n",
       "32404788  100231  1788852             4            5  ...   \n",
       "32404853   77233   561019             4            5  ...   \n",
       "32404854  119306   906710             2            5  ...   \n",
       "\n",
       "          busiest_period_of_day  max_order  loyalty_flag  \\\n",
       "79               Average orders          3  New customer   \n",
       "80                  Most orders          3  New customer   \n",
       "197                 Most orders          4  New customer   \n",
       "198              Average orders          3  New customer   \n",
       "199              Average orders          3  New customer   \n",
       "...                         ...        ...           ...   \n",
       "32404786         Average orders          4  New customer   \n",
       "32404787            Most orders          4  New customer   \n",
       "32404788          Fewest orders          4  New customer   \n",
       "32404853         Average orders          4  New customer   \n",
       "32404854            Most orders          3  New customer   \n",
       "\n",
       "          average_product_price  spending_flag median_days_since_prior_order  \\\n",
       "79                     7.485714    Low spender                          15.0   \n",
       "80                     7.485714    Low spender                          15.0   \n",
       "197                    8.161798    Low spender                          30.0   \n",
       "198                    9.175000    Low spender                          11.0   \n",
       "199                    9.175000    Low spender                          11.0   \n",
       "...                         ...            ...                           ...   \n",
       "32404786               8.227473    Low spender                          25.0   \n",
       "32404787               8.227473    Low spender                          25.0   \n",
       "32404788               8.227473    Low spender                          25.0   \n",
       "32404853               7.427119    Low spender                           7.0   \n",
       "32404854               7.797561    Low spender                           7.0   \n",
       "\n",
       "                 frequency_flag  department   Region exclusion_flag  \n",
       "79             Regular customer   beverages    South        Exclude  \n",
       "80             Regular customer   beverages    South        Exclude  \n",
       "197       Non-frequent customer   beverages  Midwest        Exclude  \n",
       "198            Regular customer   beverages     West        Exclude  \n",
       "199            Regular customer   beverages     West        Exclude  \n",
       "...                         ...         ...      ...            ...  \n",
       "32404786  Non-frequent customer       other     West        Exclude  \n",
       "32404787  Non-frequent customer       other     West        Exclude  \n",
       "32404788  Non-frequent customer       other     West        Exclude  \n",
       "32404853      Frequent customer       other     West        Exclude  \n",
       "32404854      Frequent customer       other  Midwest        Exclude  \n",
       "\n",
       "[1440295 rows x 31 columns]"
      ]
     },
     "execution_count": 21,
     "metadata": {},
     "output_type": "execute_result"
    }
   ],
   "source": [
    "low_activity"
   ]
  },
  {
   "cell_type": "code",
   "execution_count": 29,
   "id": "e2116500",
   "metadata": {},
   "outputs": [],
   "source": [
    "# Export this sample dataframe\n",
    "low_activity.to_pickle(os.path.join(path,'low_activity.pkl'))"
   ]
  },
  {
   "cell_type": "code",
   "execution_count": 22,
   "id": "17ff18ec",
   "metadata": {},
   "outputs": [],
   "source": [
    "# Create a new dataframe without the low activity \n",
    "df_active = df_final.loc[df_final['max_order'] >= 5]"
   ]
  },
  {
   "cell_type": "code",
   "execution_count": 23,
   "id": "c067417f",
   "metadata": {},
   "outputs": [
    {
     "data": {
      "text/plain": [
       "(30964564, 31)"
      ]
     },
     "execution_count": 23,
     "metadata": {},
     "output_type": "execute_result"
    }
   ],
   "source": [
    "df_active.shape"
   ]
  },
  {
   "cell_type": "code",
   "execution_count": 24,
   "id": "9915d64a",
   "metadata": {},
   "outputs": [],
   "source": [
    "del df_final"
   ]
  },
  {
   "cell_type": "markdown",
   "id": "170f7031",
   "metadata": {},
   "source": [
    "###    06. Creating customer profiles\n",
    "    a. Age profile\n",
    "    b. Income profile\n",
    "    c. Number of Dependants Profile\n",
    "    d. Produce Profile\n",
    "    e. Frozen Profile\n",
    "    f. Vegetarian profile\n",
    "    g. Alcohol drinker Profile "
   ]
  },
  {
   "cell_type": "markdown",
   "id": "2c3436b1",
   "metadata": {},
   "source": [
    "#### a. Age profile"
   ]
  },
  {
   "cell_type": "code",
   "execution_count": 25,
   "id": "08cf30a0",
   "metadata": {},
   "outputs": [
    {
     "data": {
      "text/plain": [
       "array([48, 36, 35, 40, 26, 43, 20, 47, 19, 45, 75, 51, 70, 77, 64, 67, 72,\n",
       "       74, 57, 80, 31, 66, 55, 54, 73, 37, 30, 56, 24, 27, 46, 61, 25, 32,\n",
       "       28, 39, 33, 60, 52, 62, 76, 78, 21, 58, 29, 63, 22, 81, 38, 50, 59,\n",
       "       49, 53, 79, 42, 41, 18, 34, 23, 69, 44, 65, 71, 68], dtype=int64)"
      ]
     },
     "execution_count": 25,
     "metadata": {},
     "output_type": "execute_result"
    }
   ],
   "source": [
    "df_active['Age'].unique() # To check the age range"
   ]
  },
  {
   "cell_type": "code",
   "execution_count": 26,
   "id": "3ad49365",
   "metadata": {},
   "outputs": [],
   "source": [
    "# Create age profile\n",
    "df_active.loc[(df_active['Age'] <= 35) & (df_active['n_dependants'] > 0), 'age_profile'] = 'Young parent'"
   ]
  },
  {
   "cell_type": "code",
   "execution_count": 28,
   "id": "4d302d76",
   "metadata": {},
   "outputs": [],
   "source": [
    "df_active.loc[(df_active['Age'] >= 55) & (df_active['n_dependants'] > 0), 'age_profile'] = 'Old parent'"
   ]
  },
  {
   "cell_type": "code",
   "execution_count": 29,
   "id": "314f336d",
   "metadata": {},
   "outputs": [],
   "source": [
    "df_active.loc[(df_active['Age'] < 55) & (df_active['Age'] > 35) & (df_active['n_dependants'] > 0), 'age_profile'] = 'Mid parent'"
   ]
  },
  {
   "cell_type": "code",
   "execution_count": 31,
   "id": "09b24d58",
   "metadata": {},
   "outputs": [],
   "source": [
    "df_active.loc[df_active['n_dependants'] == 0, 'age_profile'] = 'Single'"
   ]
  },
  {
   "cell_type": "code",
   "execution_count": 35,
   "id": "a9932081",
   "metadata": {},
   "outputs": [
    {
     "data": {
      "text/plain": [
       "(30964564, 32)"
      ]
     },
     "execution_count": 35,
     "metadata": {},
     "output_type": "execute_result"
    }
   ],
   "source": [
    "df_active.shape"
   ]
  },
  {
   "cell_type": "markdown",
   "id": "61acefe2",
   "metadata": {},
   "source": [
    "#### b. Income profile"
   ]
  },
  {
   "cell_type": "code",
   "execution_count": 38,
   "id": "30849821",
   "metadata": {},
   "outputs": [
    {
     "data": {
      "text/plain": [
       "25903"
      ]
     },
     "execution_count": 38,
     "metadata": {},
     "output_type": "execute_result"
    }
   ],
   "source": [
    "df_active['income'].min()"
   ]
  },
  {
   "cell_type": "code",
   "execution_count": 39,
   "id": "21cb3c2a",
   "metadata": {},
   "outputs": [
    {
     "data": {
      "text/plain": [
       "593901"
      ]
     },
     "execution_count": 39,
     "metadata": {},
     "output_type": "execute_result"
    }
   ],
   "source": [
    "df_active['income'].max()"
   ]
  },
  {
   "cell_type": "code",
   "execution_count": 40,
   "id": "8a81c6a8",
   "metadata": {},
   "outputs": [],
   "source": [
    "# Create income profile as the income range is in (25903, 593901)\n",
    "income = []\n",
    "for value in df_active['income']:\n",
    "    if value <= 55000:\n",
    "        income.append('Low income')\n",
    "    elif value > 55000 and value < 125000:\n",
    "        income.append('Mid income')\n",
    "    elif value >= 125000:\n",
    "        income.append('High income')\n",
    "    else:\n",
    "        income.append('No Data')"
   ]
  },
  {
   "cell_type": "code",
   "execution_count": 41,
   "id": "6f5758e4",
   "metadata": {},
   "outputs": [],
   "source": [
    "df_active['income_group'] = income"
   ]
  },
  {
   "cell_type": "code",
   "execution_count": 42,
   "id": "e2d1ccd5",
   "metadata": {},
   "outputs": [
    {
     "data": {
      "text/plain": [
       "Mid income     18234132\n",
       "High income     8278044\n",
       "Low income      4452388\n",
       "Name: income_group, dtype: int64"
      ]
     },
     "execution_count": 42,
     "metadata": {},
     "output_type": "execute_result"
    }
   ],
   "source": [
    "df_active['income_group'].value_counts(dropna=False)"
   ]
  },
  {
   "cell_type": "markdown",
   "id": "7414d3bb",
   "metadata": {},
   "source": [
    "#### c. Number of Dependants Profile"
   ]
  },
  {
   "cell_type": "code",
   "execution_count": 44,
   "id": "630fd444",
   "metadata": {},
   "outputs": [],
   "source": [
    "# Create a boolen column to define whether customers have depandents or not\n",
    "df_active.loc[df_active['n_dependants'] > 0, 'dependant_group'] = 'Have dependants'\n",
    "df_active.loc[df_active['n_dependants'] == 0, 'dependant_group'] = 'No dependants'"
   ]
  },
  {
   "cell_type": "code",
   "execution_count": 45,
   "id": "d4302fa0",
   "metadata": {},
   "outputs": [
    {
     "data": {
      "text/plain": [
       "(30964564, 34)"
      ]
     },
     "execution_count": 45,
     "metadata": {},
     "output_type": "execute_result"
    }
   ],
   "source": [
    "df_active.shape"
   ]
  },
  {
   "cell_type": "code",
   "execution_count": 46,
   "id": "0b03c639",
   "metadata": {},
   "outputs": [
    {
     "data": {
      "text/plain": [
       "Have dependants    23224883\n",
       "No dependants       7739681\n",
       "Name: dependant_group, dtype: int64"
      ]
     },
     "execution_count": 46,
     "metadata": {},
     "output_type": "execute_result"
    }
   ],
   "source": [
    "df_active['dependant_group'].value_counts(dropna=False)"
   ]
  },
  {
   "cell_type": "markdown",
   "id": "1650c59b",
   "metadata": {},
   "source": [
    "#### d. bakery Profile"
   ]
  },
  {
   "cell_type": "code",
   "execution_count": 48,
   "id": "619fce97",
   "metadata": {},
   "outputs": [
    {
     "data": {
      "text/plain": [
       "produce            9079273\n",
       "dairy eggs         5177182\n",
       "snacks             2766406\n",
       "beverages          2571901\n",
       "frozen             2121731\n",
       "pantry             1782705\n",
       "bakery             1120828\n",
       "canned goods       1012074\n",
       "deli               1003834\n",
       "dry goods pasta     822136\n",
       "household           699857\n",
       "meat seafood        674781\n",
       "breakfast           670850\n",
       "personal care       424306\n",
       "babies              410392\n",
       "international       255991\n",
       "alcohol             144627\n",
       "pets                 93060\n",
       "missing              64768\n",
       "other                34411\n",
       "bulk                 33451\n",
       "Name: department, dtype: int64"
      ]
     },
     "execution_count": 48,
     "metadata": {},
     "output_type": "execute_result"
    }
   ],
   "source": [
    "# Create some profile in certain goods based on department column\n",
    "df_active['department'].value_counts(dropna=False)"
   ]
  },
  {
   "cell_type": "code",
   "execution_count": 51,
   "id": "88564e96",
   "metadata": {},
   "outputs": [
    {
     "data": {
      "text/plain": [
       "0    29843736\n",
       "1     1120828\n",
       "Name: bakery_status, dtype: int64"
      ]
     },
     "execution_count": 51,
     "metadata": {},
     "output_type": "execute_result"
    }
   ],
   "source": [
    "#Creating buying_flags for bought  bakery staffs, 1 indicates buy 0 indicates no \n",
    "df_active['bakery_status'] = [1 if x == 'bakery' else 0 for x in df_active['department']]\n",
    "df_active['bakery_status'].value_counts(dropna=False)"
   ]
  },
  {
   "cell_type": "markdown",
   "id": "4e785fd2",
   "metadata": {},
   "source": [
    "#### e. Frozen Profile"
   ]
  },
  {
   "cell_type": "code",
   "execution_count": 53,
   "id": "4773c9c9",
   "metadata": {},
   "outputs": [
    {
     "data": {
      "text/plain": [
       "0    28842833\n",
       "1     2121731\n",
       "Name: frozen_status, dtype: int64"
      ]
     },
     "execution_count": 53,
     "metadata": {},
     "output_type": "execute_result"
    }
   ],
   "source": [
    "#Creating buying_flags for bought pets staffs, 1 indicates buy 0 indicates no \n",
    "df_active['frozen_status'] = [1 if x == 'frozen' else 0 for x in df_active['department']]\n",
    "df_active['frozen_status'].value_counts(dropna=False)"
   ]
  },
  {
   "cell_type": "markdown",
   "id": "a3ed2a89",
   "metadata": {},
   "source": [
    "###    07. Aggregating the max, mean, and min variables on a customer-profile level for usage frequency and expenditure."
   ]
  },
  {
   "cell_type": "markdown",
   "id": "22bc5eac",
   "metadata": {},
   "source": [
    "#### a. Age profile aggregation"
   ]
  },
  {
   "cell_type": "code",
   "execution_count": 60,
   "id": "1c7b7c51",
   "metadata": {},
   "outputs": [
    {
     "data": {
      "text/html": [
       "<div>\n",
       "<style scoped>\n",
       "    .dataframe tbody tr th:only-of-type {\n",
       "        vertical-align: middle;\n",
       "    }\n",
       "\n",
       "    .dataframe tbody tr th {\n",
       "        vertical-align: top;\n",
       "    }\n",
       "\n",
       "    .dataframe thead tr th {\n",
       "        text-align: left;\n",
       "    }\n",
       "\n",
       "    .dataframe thead tr:last-of-type th {\n",
       "        text-align: right;\n",
       "    }\n",
       "</style>\n",
       "<table border=\"1\" class=\"dataframe\">\n",
       "  <thead>\n",
       "    <tr>\n",
       "      <th></th>\n",
       "      <th>order_number</th>\n",
       "      <th>prices</th>\n",
       "      <th>days_since_prior_order</th>\n",
       "    </tr>\n",
       "    <tr>\n",
       "      <th></th>\n",
       "      <th>mean</th>\n",
       "      <th>max</th>\n",
       "      <th>min</th>\n",
       "    </tr>\n",
       "    <tr>\n",
       "      <th>age_profile</th>\n",
       "      <th></th>\n",
       "      <th></th>\n",
       "      <th></th>\n",
       "    </tr>\n",
       "  </thead>\n",
       "  <tbody>\n",
       "    <tr>\n",
       "      <th>Mid parent</th>\n",
       "      <td>17.900425</td>\n",
       "      <td>25.0</td>\n",
       "      <td>0.0</td>\n",
       "    </tr>\n",
       "    <tr>\n",
       "      <th>Old parent</th>\n",
       "      <td>17.726271</td>\n",
       "      <td>25.0</td>\n",
       "      <td>0.0</td>\n",
       "    </tr>\n",
       "    <tr>\n",
       "      <th>Single</th>\n",
       "      <td>17.957922</td>\n",
       "      <td>25.0</td>\n",
       "      <td>0.0</td>\n",
       "    </tr>\n",
       "    <tr>\n",
       "      <th>Young parent</th>\n",
       "      <td>17.815233</td>\n",
       "      <td>25.0</td>\n",
       "      <td>0.0</td>\n",
       "    </tr>\n",
       "  </tbody>\n",
       "</table>\n",
       "</div>"
      ],
      "text/plain": [
       "             order_number prices days_since_prior_order\n",
       "                     mean    max                    min\n",
       "age_profile                                            \n",
       "Mid parent      17.900425   25.0                    0.0\n",
       "Old parent      17.726271   25.0                    0.0\n",
       "Single          17.957922   25.0                    0.0\n",
       "Young parent    17.815233   25.0                    0.0"
      ]
     },
     "execution_count": 60,
     "metadata": {},
     "output_type": "execute_result"
    }
   ],
   "source": [
    "df_active.groupby('age_profile').agg({'order_number':['mean'],'prices':['max'],'days_since_prior_order':['min']})"
   ]
  },
  {
   "cell_type": "markdown",
   "id": "25ad47c3",
   "metadata": {},
   "source": [
    "#### b. Income profile aggregation"
   ]
  },
  {
   "cell_type": "code",
   "execution_count": 61,
   "id": "afc69547",
   "metadata": {},
   "outputs": [
    {
     "data": {
      "text/html": [
       "<div>\n",
       "<style scoped>\n",
       "    .dataframe tbody tr th:only-of-type {\n",
       "        vertical-align: middle;\n",
       "    }\n",
       "\n",
       "    .dataframe tbody tr th {\n",
       "        vertical-align: top;\n",
       "    }\n",
       "\n",
       "    .dataframe thead tr th {\n",
       "        text-align: left;\n",
       "    }\n",
       "\n",
       "    .dataframe thead tr:last-of-type th {\n",
       "        text-align: right;\n",
       "    }\n",
       "</style>\n",
       "<table border=\"1\" class=\"dataframe\">\n",
       "  <thead>\n",
       "    <tr>\n",
       "      <th></th>\n",
       "      <th>order_number</th>\n",
       "      <th>prices</th>\n",
       "      <th>days_since_prior_order</th>\n",
       "    </tr>\n",
       "    <tr>\n",
       "      <th></th>\n",
       "      <th>mean</th>\n",
       "      <th>max</th>\n",
       "      <th>min</th>\n",
       "    </tr>\n",
       "    <tr>\n",
       "      <th>income_group</th>\n",
       "      <th></th>\n",
       "      <th></th>\n",
       "      <th></th>\n",
       "    </tr>\n",
       "  </thead>\n",
       "  <tbody>\n",
       "    <tr>\n",
       "      <th>High income</th>\n",
       "      <td>17.922180</td>\n",
       "      <td>25.0</td>\n",
       "      <td>0.0</td>\n",
       "    </tr>\n",
       "    <tr>\n",
       "      <th>Low income</th>\n",
       "      <td>16.994771</td>\n",
       "      <td>25.0</td>\n",
       "      <td>0.0</td>\n",
       "    </tr>\n",
       "    <tr>\n",
       "      <th>Mid income</th>\n",
       "      <td>17.999129</td>\n",
       "      <td>25.0</td>\n",
       "      <td>0.0</td>\n",
       "    </tr>\n",
       "  </tbody>\n",
       "</table>\n",
       "</div>"
      ],
      "text/plain": [
       "             order_number prices days_since_prior_order\n",
       "                     mean    max                    min\n",
       "income_group                                           \n",
       "High income     17.922180   25.0                    0.0\n",
       "Low income      16.994771   25.0                    0.0\n",
       "Mid income      17.999129   25.0                    0.0"
      ]
     },
     "execution_count": 61,
     "metadata": {},
     "output_type": "execute_result"
    }
   ],
   "source": [
    "df_active.groupby('income_group').agg({'order_number':['mean'],'prices':['max'],'days_since_prior_order':['min']})"
   ]
  },
  {
   "cell_type": "markdown",
   "id": "894e138c",
   "metadata": {},
   "source": [
    "#### c. Number of Dependants Profile"
   ]
  },
  {
   "cell_type": "code",
   "execution_count": 63,
   "id": "99eb9dc7",
   "metadata": {
    "scrolled": true
   },
   "outputs": [
    {
     "data": {
      "text/html": [
       "<div>\n",
       "<style scoped>\n",
       "    .dataframe tbody tr th:only-of-type {\n",
       "        vertical-align: middle;\n",
       "    }\n",
       "\n",
       "    .dataframe tbody tr th {\n",
       "        vertical-align: top;\n",
       "    }\n",
       "\n",
       "    .dataframe thead tr th {\n",
       "        text-align: left;\n",
       "    }\n",
       "\n",
       "    .dataframe thead tr:last-of-type th {\n",
       "        text-align: right;\n",
       "    }\n",
       "</style>\n",
       "<table border=\"1\" class=\"dataframe\">\n",
       "  <thead>\n",
       "    <tr>\n",
       "      <th></th>\n",
       "      <th>order_number</th>\n",
       "      <th>prices</th>\n",
       "      <th colspan=\"2\" halign=\"left\">days_since_prior_order</th>\n",
       "    </tr>\n",
       "    <tr>\n",
       "      <th></th>\n",
       "      <th>mean</th>\n",
       "      <th>max</th>\n",
       "      <th>max</th>\n",
       "      <th>min</th>\n",
       "    </tr>\n",
       "    <tr>\n",
       "      <th>dependant_group</th>\n",
       "      <th></th>\n",
       "      <th></th>\n",
       "      <th></th>\n",
       "      <th></th>\n",
       "    </tr>\n",
       "  </thead>\n",
       "  <tbody>\n",
       "    <tr>\n",
       "      <th>Have dependants</th>\n",
       "      <td>17.792891</td>\n",
       "      <td>25.0</td>\n",
       "      <td>30.0</td>\n",
       "      <td>0.0</td>\n",
       "    </tr>\n",
       "    <tr>\n",
       "      <th>No dependants</th>\n",
       "      <td>17.957922</td>\n",
       "      <td>25.0</td>\n",
       "      <td>30.0</td>\n",
       "      <td>0.0</td>\n",
       "    </tr>\n",
       "  </tbody>\n",
       "</table>\n",
       "</div>"
      ],
      "text/plain": [
       "                order_number prices days_since_prior_order     \n",
       "                        mean    max                    max  min\n",
       "dependant_group                                                \n",
       "Have dependants    17.792891   25.0                   30.0  0.0\n",
       "No dependants      17.957922   25.0                   30.0  0.0"
      ]
     },
     "execution_count": 63,
     "metadata": {},
     "output_type": "execute_result"
    }
   ],
   "source": [
    "df_active.groupby('dependant_group').agg({'order_number':['mean'],'prices':['max'],'days_since_prior_order':['max','min']})"
   ]
  },
  {
   "cell_type": "markdown",
   "id": "d358ff67",
   "metadata": {},
   "source": [
    "#### d. bakery Profile aggregation"
   ]
  },
  {
   "cell_type": "code",
   "execution_count": 65,
   "id": "9a557510",
   "metadata": {},
   "outputs": [
    {
     "data": {
      "text/html": [
       "<div>\n",
       "<style scoped>\n",
       "    .dataframe tbody tr th:only-of-type {\n",
       "        vertical-align: middle;\n",
       "    }\n",
       "\n",
       "    .dataframe tbody tr th {\n",
       "        vertical-align: top;\n",
       "    }\n",
       "\n",
       "    .dataframe thead tr th {\n",
       "        text-align: left;\n",
       "    }\n",
       "\n",
       "    .dataframe thead tr:last-of-type th {\n",
       "        text-align: right;\n",
       "    }\n",
       "</style>\n",
       "<table border=\"1\" class=\"dataframe\">\n",
       "  <thead>\n",
       "    <tr>\n",
       "      <th></th>\n",
       "      <th>order_number</th>\n",
       "      <th>prices</th>\n",
       "      <th colspan=\"2\" halign=\"left\">days_since_prior_order</th>\n",
       "    </tr>\n",
       "    <tr>\n",
       "      <th></th>\n",
       "      <th>mean</th>\n",
       "      <th>max</th>\n",
       "      <th>max</th>\n",
       "      <th>min</th>\n",
       "    </tr>\n",
       "    <tr>\n",
       "      <th>bakery_status</th>\n",
       "      <th></th>\n",
       "      <th></th>\n",
       "      <th></th>\n",
       "      <th></th>\n",
       "    </tr>\n",
       "  </thead>\n",
       "  <tbody>\n",
       "    <tr>\n",
       "      <th>0</th>\n",
       "      <td>17.833297</td>\n",
       "      <td>25.0</td>\n",
       "      <td>30.0</td>\n",
       "      <td>0.0</td>\n",
       "    </tr>\n",
       "    <tr>\n",
       "      <th>1</th>\n",
       "      <td>17.856619</td>\n",
       "      <td>15.0</td>\n",
       "      <td>30.0</td>\n",
       "      <td>0.0</td>\n",
       "    </tr>\n",
       "  </tbody>\n",
       "</table>\n",
       "</div>"
      ],
      "text/plain": [
       "              order_number prices days_since_prior_order     \n",
       "                      mean    max                    max  min\n",
       "bakery_status                                                \n",
       "0                17.833297   25.0                   30.0  0.0\n",
       "1                17.856619   15.0                   30.0  0.0"
      ]
     },
     "execution_count": 65,
     "metadata": {},
     "output_type": "execute_result"
    }
   ],
   "source": [
    "# 1 indicates buy, 0 indicates no buy\n",
    "df_active.groupby('bakery_status').agg({'order_number':['mean'],'prices':['max'],'days_since_prior_order':['max','min']})"
   ]
  },
  {
   "cell_type": "markdown",
   "id": "a80c5405",
   "metadata": {},
   "source": [
    "#### e. Frozen Profile"
   ]
  },
  {
   "cell_type": "code",
   "execution_count": 66,
   "id": "12f53ee7",
   "metadata": {},
   "outputs": [
    {
     "data": {
      "text/html": [
       "<div>\n",
       "<style scoped>\n",
       "    .dataframe tbody tr th:only-of-type {\n",
       "        vertical-align: middle;\n",
       "    }\n",
       "\n",
       "    .dataframe tbody tr th {\n",
       "        vertical-align: top;\n",
       "    }\n",
       "\n",
       "    .dataframe thead tr th {\n",
       "        text-align: left;\n",
       "    }\n",
       "\n",
       "    .dataframe thead tr:last-of-type th {\n",
       "        text-align: right;\n",
       "    }\n",
       "</style>\n",
       "<table border=\"1\" class=\"dataframe\">\n",
       "  <thead>\n",
       "    <tr>\n",
       "      <th></th>\n",
       "      <th>order_number</th>\n",
       "      <th>prices</th>\n",
       "      <th colspan=\"2\" halign=\"left\">days_since_prior_order</th>\n",
       "    </tr>\n",
       "    <tr>\n",
       "      <th></th>\n",
       "      <th>mean</th>\n",
       "      <th>max</th>\n",
       "      <th>max</th>\n",
       "      <th>min</th>\n",
       "    </tr>\n",
       "    <tr>\n",
       "      <th>frozen_status</th>\n",
       "      <th></th>\n",
       "      <th></th>\n",
       "      <th></th>\n",
       "      <th></th>\n",
       "    </tr>\n",
       "  </thead>\n",
       "  <tbody>\n",
       "    <tr>\n",
       "      <th>0</th>\n",
       "      <td>17.957240</td>\n",
       "      <td>25.0</td>\n",
       "      <td>30.0</td>\n",
       "      <td>0.0</td>\n",
       "    </tr>\n",
       "    <tr>\n",
       "      <th>1</th>\n",
       "      <td>16.160739</td>\n",
       "      <td>15.0</td>\n",
       "      <td>30.0</td>\n",
       "      <td>0.0</td>\n",
       "    </tr>\n",
       "  </tbody>\n",
       "</table>\n",
       "</div>"
      ],
      "text/plain": [
       "              order_number prices days_since_prior_order     \n",
       "                      mean    max                    max  min\n",
       "frozen_status                                                \n",
       "0                17.957240   25.0                   30.0  0.0\n",
       "1                16.160739   15.0                   30.0  0.0"
      ]
     },
     "execution_count": 66,
     "metadata": {},
     "output_type": "execute_result"
    }
   ],
   "source": [
    "# 1 indicates buy, 0 indicates no buy\n",
    "df_active.groupby('frozen_status').agg({'order_number':['mean'],'prices':['max'],'days_since_prior_order':['max','min']})"
   ]
  },
  {
   "cell_type": "markdown",
   "id": "8237d542",
   "metadata": {},
   "source": [
    "###    08. Creating visualizations to show the distribution of profiles\n",
    "    a. Age profile distribution\n",
    "    b. Income profile distribution\n",
    "    c. Number of Dependants Profile distribution\n",
    "    d. bakery Profile distribution\n",
    "    e. Frozen Profile distribution\n"
   ]
  },
  {
   "cell_type": "markdown",
   "id": "4852c745",
   "metadata": {},
   "source": [
    "#### a. Age profile distribution"
   ]
  },
  {
   "cell_type": "code",
   "execution_count": 67,
   "id": "9eeb09e9",
   "metadata": {},
   "outputs": [
    {
     "data": {
      "text/plain": [
       "Old parent      12477936\n",
       "Single           7739681\n",
       "Mid parent       6939459\n",
       "Young parent     3807488\n",
       "Name: age_profile, dtype: int64"
      ]
     },
     "execution_count": 67,
     "metadata": {},
     "output_type": "execute_result"
    }
   ],
   "source": [
    "df_active['age_profile'].value_counts(dropna=False)"
   ]
  },
  {
   "cell_type": "code",
   "execution_count": 69,
   "id": "854632ab",
   "metadata": {},
   "outputs": [
    {
     "data": {
      "text/plain": [
       "['Solarize_Light2',\n",
       " '_classic_test_patch',\n",
       " '_mpl-gallery',\n",
       " '_mpl-gallery-nogrid',\n",
       " 'bmh',\n",
       " 'classic',\n",
       " 'dark_background',\n",
       " 'fast',\n",
       " 'fivethirtyeight',\n",
       " 'ggplot',\n",
       " 'grayscale',\n",
       " 'seaborn',\n",
       " 'seaborn-bright',\n",
       " 'seaborn-colorblind',\n",
       " 'seaborn-dark',\n",
       " 'seaborn-dark-palette',\n",
       " 'seaborn-darkgrid',\n",
       " 'seaborn-deep',\n",
       " 'seaborn-muted',\n",
       " 'seaborn-notebook',\n",
       " 'seaborn-paper',\n",
       " 'seaborn-pastel',\n",
       " 'seaborn-poster',\n",
       " 'seaborn-talk',\n",
       " 'seaborn-ticks',\n",
       " 'seaborn-white',\n",
       " 'seaborn-whitegrid',\n",
       " 'tableau-colorblind10']"
      ]
     },
     "execution_count": 69,
     "metadata": {},
     "output_type": "execute_result"
    }
   ],
   "source": [
    "style.available"
   ]
  },
  {
   "cell_type": "code",
   "execution_count": 180,
   "id": "55067c83",
   "metadata": {
    "scrolled": false
   },
   "outputs": [
    {
     "data": {
      "image/png": "[encoded data removed]",
      "text/plain": [
       "<Figure size 1152x576 with 1 Axes>"
      ]
     },
     "metadata": {},
     "output_type": "display_data"
    }
   ],
   "source": [
    "# Create a bar chart to show the order of age groups\n",
    "fig, ax = plt.subplots(figsize = (16, 8))\n",
    "x = ['Old parent','Single','Mid parent','Young parent']\n",
    "y = df_active['age_profile'].value_counts(dropna=False)\n",
    "\n",
    "plt.bar(x, y, width = 0.5, color = 'tab:cyan')\n",
    "\n",
    "# Create a title\n",
    "ax.set(title = 'Orders By Age Groups', ylabel = '$Value Counts$')\n",
    "\n",
    "# Create labels\n",
    "for a, b, label in zip(x, y, y):\n",
    "    plt.text(a, b, label, ha = 'center', va = 'bottom')\n",
    "\n",
    "# Hiding ticks\n",
    "ax.tick_params(axis = 'both', which = 'both', length=0)\n",
    "\n",
    "plt.savefig(os.path.join(path,'bar_age_of_group.png'))\n",
    "plt.show()"
   ]
  },
  {
   "cell_type": "markdown",
   "id": "de1060fb",
   "metadata": {},
   "source": [
    "#### b. Income profile distribution"
   ]
  },
  {
   "cell_type": "code",
   "execution_count": 178,
   "id": "3fe27009",
   "metadata": {},
   "outputs": [
    {
     "data": {
      "image/png": "[encoded data removed]",
      "text/plain": [
       "<Figure size 1440x576 with 1 Axes>"
      ]
     },
     "metadata": {},
     "output_type": "display_data"
    }
   ],
   "source": [
    "# Create a histogram\n",
    "fig, ax = plt.subplots(figsize = (20, 8))\n",
    "\n",
    "plt.hist(df_active['income'], bins = 60,color = 'tab:cyan', edgecolor = 'w')\n",
    "\n",
    "# Create title\n",
    "ax.set(title = 'Income of Historam Chart')\n",
    "\n",
    "# Set x visible\n",
    "plt.setp(ax.get_xticklabels(), visible=True)\n",
    "# Hiding x and y_axis's tick\n",
    "ax.tick_params(axis='both', which='both', length=0)\n",
    "\n",
    "plt.show()"
   ]
  },
  {
   "cell_type": "code",
   "execution_count": 179,
   "id": "96b7af66",
   "metadata": {},
   "outputs": [
    {
     "data": {
      "image/png": "[encoded data removed]",
      "text/plain": [
       "<Figure size 864x432 with 1 Axes>"
      ]
     },
     "metadata": {},
     "output_type": "display_data"
    }
   ],
   "source": [
    "# bar chart showing the orders made for each department\n",
    "fig, ax = plt.subplots(figsize = (12, 6))\n",
    "df_active['income_group'].value_counts().sort_values().plot(kind = 'barh', width = 0.7, color = 'tab:cyan')\n",
    "#Create a title\n",
    "ax.set(title = 'Income Group')\n",
    "plt.savefig(os.path.join(path,'barh_income.png'))\n",
    "plt.show()"
   ]
  },
  {
   "cell_type": "markdown",
   "id": "c258c0e4",
   "metadata": {},
   "source": [
    "Mid income group (range between 52000 and 125000) hold the most customers for ordering our products."
   ]
  },
  {
   "cell_type": "markdown",
   "id": "f4952f54",
   "metadata": {},
   "source": [
    "#### c. Number of Dependants Profile"
   ]
  },
  {
   "cell_type": "code",
   "execution_count": 200,
   "id": "a1bd467b",
   "metadata": {},
   "outputs": [
    {
     "data": {
      "image/png": "[encoded data removed]",
      "text/plain": [
       "<Figure size 1296x576 with 1 Axes>"
      ]
     },
     "metadata": {},
     "output_type": "display_data"
    }
   ],
   "source": [
    "sns.set(rc = {'figure.figsize':(18,8)})\n",
    "#Creating a pie chart for number of dependants\n",
    "\n",
    "sizes = df_active['dependant_group'].value_counts()\n",
    "labels = ['Have Dependants','No Dependant'] \n",
    "colors = ['tab:blue','tab:cyan'] \n",
    "\n",
    "explode = (0.05,0)\n",
    "patches,text1,text2 = plt.pie(sizes,\n",
    "                      explode = explode,\n",
    "                      colors = colors,\n",
    "                      labels = labels,\n",
    "                      autopct = '%3.1f%%',\n",
    "                      shadow = False, \n",
    "                      startangle = 90, \n",
    "                      pctdistance = 0.6) \n",
    "plt.axis('equal')\n",
    "plt.legend()\n",
    "plt.savefig(os.path.join(path,'pie_n_dependants.png'))\n",
    "plt.show()"
   ]
  },
  {
   "cell_type": "markdown",
   "id": "fd97aa0b",
   "metadata": {},
   "source": [
    "As we can see our customers who has dependant achive to 75% and those have non dependant only hold 25%, on the another hands, the most orders came from those customer who have a famlily."
   ]
  },
  {
   "cell_type": "markdown",
   "id": "e01ee4a3",
   "metadata": {},
   "source": [
    "#### d. bakery Profile distribution"
   ]
  },
  {
   "cell_type": "markdown",
   "id": "a0a83559",
   "metadata": {},
   "source": [
    "###### First, I would like to see the department rank by create a bar chart"
   ]
  },
  {
   "cell_type": "code",
   "execution_count": 181,
   "id": "46b586e5",
   "metadata": {},
   "outputs": [
    {
     "data": {
      "image/png": "[encoded data removed]",
      "text/plain": [
       "<Figure size 1008x576 with 1 Axes>"
      ]
     },
     "metadata": {},
     "output_type": "display_data"
    }
   ],
   "source": [
    "# bar chart showing the orders made for each department\n",
    "fig, ax = plt.subplots(figsize = (14, 8))\n",
    "df_active['department'].value_counts().sort_values().plot(kind = 'barh', width = 0.9, color = 'tab:cyan')\n",
    "#Create a title\n",
    "ax.set(title = 'Department Rank')\n",
    "plt.savefig(os.path.join(path,'barh_rank_department'))\n",
    "plt.show()"
   ]
  },
  {
   "cell_type": "markdown",
   "id": "e24c6216",
   "metadata": {},
   "source": [
    "From this bar chart we can clearly to catch which department is first and which one is last, it can help our marketing department to create best strategy based on this rank."
   ]
  },
  {
   "cell_type": "code",
   "execution_count": 158,
   "id": "2a4e3b0c",
   "metadata": {},
   "outputs": [
    {
     "data": {
      "text/plain": [
       "0    29843736\n",
       "1     1120828\n",
       "Name: bakery_status, dtype: int64"
      ]
     },
     "execution_count": 158,
     "metadata": {},
     "output_type": "execute_result"
    }
   ],
   "source": [
    "df_active['bakery_status'].value_counts()"
   ]
  },
  {
   "cell_type": "code",
   "execution_count": 199,
   "id": "edff051c",
   "metadata": {},
   "outputs": [
    {
     "data": {
      "image/png": "[encoded data removed]",
      "text/plain": [
       "<Figure size 1296x576 with 1 Axes>"
      ]
     },
     "metadata": {},
     "output_type": "display_data"
    }
   ],
   "source": [
    "sns.set(rc = {'figure.figsize':(18,8)})\n",
    "#Creating a pie chart for order status from bakery department\n",
    "sizes = df_active['bakery_status'].value_counts()\n",
    "labels = ['No Buy','Buy'] \n",
    "colors = ['tab:blue','tab:cyan'] \n",
    "\n",
    "explode = (0.09,0)\n",
    "patches,text1,text2 = plt.pie(sizes,\n",
    "                      explode = explode,\n",
    "                      colors = colors,\n",
    "                      labels = labels,\n",
    "                      autopct = '%2.1f%%',\n",
    "                      shadow = False, \n",
    "                      startangle = 90, \n",
    "                      pctdistance = 0.6) \n",
    "plt.axis('equal')\n",
    "plt.legend()\n",
    "plt.savefig(os.path.join(path,'pie_bakery_status.png'))\n",
    "plt.show()"
   ]
  },
  {
   "cell_type": "markdown",
   "id": "b0930ef0",
   "metadata": {},
   "source": [
    "There is only 3.6% customers who ordered staffs from bakery department, this number would be have chance to increase in future if do sales on it."
   ]
  },
  {
   "cell_type": "markdown",
   "id": "1768da69",
   "metadata": {},
   "source": [
    "#### e. Frozen Profile distribution"
   ]
  },
  {
   "cell_type": "code",
   "execution_count": 198,
   "id": "2dddfd55",
   "metadata": {},
   "outputs": [
    {
     "data": {
      "image/png": "[encoded data removed]",
      "text/plain": [
       "<Figure size 1296x576 with 1 Axes>"
      ]
     },
     "metadata": {},
     "output_type": "display_data"
    }
   ],
   "source": [
    "sns.set(rc = {'figure.figsize':(18, 8)})\n",
    "\n",
    "# Creeating a pie chart for the status of customers in frozen department\n",
    "sizes = df_active['frozen_status'].value_counts()\n",
    "labels = ['No buy', 'Buy']\n",
    "colors = ['tab:blue','tab:cyan']\n",
    "explode = [0.09, 0]\n",
    "patches, text1,text2 = plt.pie(sizes,\n",
    "                              explode = explode,\n",
    "                              colors = colors,\n",
    "                              labels = labels,\n",
    "                              autopct = '%2.1f%%',\n",
    "                              shadow = False,\n",
    "                              startangle = 90,\n",
    "                              pctdistance = 0.6)\n",
    "plt.axis('equal')\n",
    "plt.legend()\n",
    "plt.savefig(os.path.join(path,'pie_frozen_status.png'))\n",
    "plt.show()"
   ]
  },
  {
   "cell_type": "markdown",
   "id": "c828d763",
   "metadata": {},
   "source": [
    "### 09. Exporting visualizations"
   ]
  },
  {
   "cell_type": "code",
   "execution_count": 211,
   "id": "0546dfd1",
   "metadata": {},
   "outputs": [],
   "source": [
    "df_final.to_pickle(os.path.join(path,'all_final.pkl'))"
   ]
  },
  {
   "cell_type": "code",
   "execution_count": 212,
   "id": "abc61f75",
   "metadata": {},
   "outputs": [],
   "source": [
    "df_active.to_pickle(os.path.join(path,'final_all_columns.pkl'))"
   ]
  }
 ],
 "metadata": {
  "kernelspec": {
   "display_name": "Python 3 (ipykernel)",
   "language": "python",
   "name": "python3"
  },
  "language_info": {
   "codemirror_mode": {
    "name": "ipython",
    "version": 3
   },
   "file_extension": ".py",
   "mimetype": "text/x-python",
   "name": "python",
   "nbconvert_exporter": "python",
   "pygments_lexer": "ipython3",
   "version": "3.9.12"
  },
  "toc": {
   "base_numbering": 1,
   "nav_menu": {},
   "number_sections": true,
   "sideBar": true,
   "skip_h1_title": false,
   "title_cell": "Table of Contents",
   "title_sidebar": "Contents",
   "toc_cell": false,
   "toc_position": {},
   "toc_section_display": true,
   "toc_window_display": true
  }
 },
 "nbformat": 4,
 "nbformat_minor": 5
}
