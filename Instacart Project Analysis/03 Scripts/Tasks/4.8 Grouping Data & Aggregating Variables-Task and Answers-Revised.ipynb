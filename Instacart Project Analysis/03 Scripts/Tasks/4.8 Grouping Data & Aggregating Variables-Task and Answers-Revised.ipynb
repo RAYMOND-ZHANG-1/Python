{
 "cells": [
  {
   "cell_type": "markdown",
   "id": "f08cf5fe",
   "metadata": {},
   "source": [
    "#### Import libarires\n",
    "import pandas as pd\n",
    "import numpy as np\n",
    "import os"
   ]
  },
  {
   "cell_type": "code",
   "execution_count": 4,
   "id": "4dc27683",
   "metadata": {},
   "outputs": [],
   "source": [
    "# Creata a import path\n",
    "path = r'C:\\Users\\SuperHome\\Documents\\Instacart Basket Analysis\\02 Data\\Prepared Data'"
   ]
  },
  {
   "cell_type": "markdown",
   "id": "1ea2d39a",
   "metadata": {},
   "source": [
    "# Question 1.\n",
    "Create a new notebook for this task. Be sure to import the relevant libraries, along with your ords_prods_merge\n",
    "dataframe, which should include your newly derived columns from the previous Exercise."
   ]
  },
  {
   "cell_type": "markdown",
   "id": "7fce0af2",
   "metadata": {},
   "source": [
    "#### Import dataframe -- customers megered with orders and products"
   ]
  },
  {
   "cell_type": "code",
   "execution_count": 5,
   "id": "d4ccae89",
   "metadata": {},
   "outputs": [],
   "source": [
    "cus_ord = pd.read_pickle(os.path.join(path,'cus_ord_pro.pkl'))"
   ]
  },
  {
   "cell_type": "code",
   "execution_count": 6,
   "id": "fd307343",
   "metadata": {},
   "outputs": [
    {
     "data": {
      "text/html": [
       "<div>\n",
       "<style scoped>\n",
       "    .dataframe tbody tr th:only-of-type {\n",
       "        vertical-align: middle;\n",
       "    }\n",
       "\n",
       "    .dataframe tbody tr th {\n",
       "        vertical-align: top;\n",
       "    }\n",
       "\n",
       "    .dataframe thead th {\n",
       "        text-align: right;\n",
       "    }\n",
       "</style>\n",
       "<table border=\"1\" class=\"dataframe\">\n",
       "  <thead>\n",
       "    <tr style=\"text-align: right;\">\n",
       "      <th></th>\n",
       "      <th>user_id</th>\n",
       "      <th>First Name</th>\n",
       "      <th>Surnam</th>\n",
       "      <th>Gender</th>\n",
       "      <th>STATE</th>\n",
       "      <th>Age</th>\n",
       "      <th>date_joined</th>\n",
       "      <th>n_dependants</th>\n",
       "      <th>fam_status</th>\n",
       "      <th>income</th>\n",
       "      <th>...</th>\n",
       "      <th>add_to_cart_order</th>\n",
       "      <th>reordered</th>\n",
       "      <th>_merge</th>\n",
       "      <th>product_name</th>\n",
       "      <th>aisle_id</th>\n",
       "      <th>department_id</th>\n",
       "      <th>prices</th>\n",
       "      <th>price_range</th>\n",
       "      <th>Busiest_day</th>\n",
       "      <th>busiest_period_of_day</th>\n",
       "    </tr>\n",
       "  </thead>\n",
       "  <tbody>\n",
       "    <tr>\n",
       "      <th>0</th>\n",
       "      <td>26711</td>\n",
       "      <td>Deborah</td>\n",
       "      <td>Esquivel</td>\n",
       "      <td>Female</td>\n",
       "      <td>Missouri</td>\n",
       "      <td>48</td>\n",
       "      <td>1/1/2017</td>\n",
       "      <td>3</td>\n",
       "      <td>married</td>\n",
       "      <td>165665</td>\n",
       "      <td>...</td>\n",
       "      <td>2</td>\n",
       "      <td>0</td>\n",
       "      <td>both</td>\n",
       "      <td>Soda</td>\n",
       "      <td>77</td>\n",
       "      <td>7</td>\n",
       "      <td>9.0</td>\n",
       "      <td>Mid-range product</td>\n",
       "      <td>two_busiest days</td>\n",
       "      <td>Most orders</td>\n",
       "    </tr>\n",
       "    <tr>\n",
       "      <th>1</th>\n",
       "      <td>26711</td>\n",
       "      <td>Deborah</td>\n",
       "      <td>Esquivel</td>\n",
       "      <td>Female</td>\n",
       "      <td>Missouri</td>\n",
       "      <td>48</td>\n",
       "      <td>1/1/2017</td>\n",
       "      <td>3</td>\n",
       "      <td>married</td>\n",
       "      <td>165665</td>\n",
       "      <td>...</td>\n",
       "      <td>1</td>\n",
       "      <td>1</td>\n",
       "      <td>both</td>\n",
       "      <td>Soda</td>\n",
       "      <td>77</td>\n",
       "      <td>7</td>\n",
       "      <td>9.0</td>\n",
       "      <td>Mid-range product</td>\n",
       "      <td>regularly busy</td>\n",
       "      <td>Most orders</td>\n",
       "    </tr>\n",
       "    <tr>\n",
       "      <th>2</th>\n",
       "      <td>26711</td>\n",
       "      <td>Deborah</td>\n",
       "      <td>Esquivel</td>\n",
       "      <td>Female</td>\n",
       "      <td>Missouri</td>\n",
       "      <td>48</td>\n",
       "      <td>1/1/2017</td>\n",
       "      <td>3</td>\n",
       "      <td>married</td>\n",
       "      <td>165665</td>\n",
       "      <td>...</td>\n",
       "      <td>2</td>\n",
       "      <td>1</td>\n",
       "      <td>both</td>\n",
       "      <td>Soda</td>\n",
       "      <td>77</td>\n",
       "      <td>7</td>\n",
       "      <td>9.0</td>\n",
       "      <td>Mid-range product</td>\n",
       "      <td>two_busiest days</td>\n",
       "      <td>Most orders</td>\n",
       "    </tr>\n",
       "    <tr>\n",
       "      <th>3</th>\n",
       "      <td>26711</td>\n",
       "      <td>Deborah</td>\n",
       "      <td>Esquivel</td>\n",
       "      <td>Female</td>\n",
       "      <td>Missouri</td>\n",
       "      <td>48</td>\n",
       "      <td>1/1/2017</td>\n",
       "      <td>3</td>\n",
       "      <td>married</td>\n",
       "      <td>165665</td>\n",
       "      <td>...</td>\n",
       "      <td>1</td>\n",
       "      <td>0</td>\n",
       "      <td>both</td>\n",
       "      <td>0% Greek Strained Yogurt</td>\n",
       "      <td>120</td>\n",
       "      <td>16</td>\n",
       "      <td>12.6</td>\n",
       "      <td>Mid-range product</td>\n",
       "      <td>regularly busy</td>\n",
       "      <td>Most orders</td>\n",
       "    </tr>\n",
       "    <tr>\n",
       "      <th>4</th>\n",
       "      <td>26711</td>\n",
       "      <td>Deborah</td>\n",
       "      <td>Esquivel</td>\n",
       "      <td>Female</td>\n",
       "      <td>Missouri</td>\n",
       "      <td>48</td>\n",
       "      <td>1/1/2017</td>\n",
       "      <td>3</td>\n",
       "      <td>married</td>\n",
       "      <td>165665</td>\n",
       "      <td>...</td>\n",
       "      <td>1</td>\n",
       "      <td>1</td>\n",
       "      <td>both</td>\n",
       "      <td>0% Greek Strained Yogurt</td>\n",
       "      <td>120</td>\n",
       "      <td>16</td>\n",
       "      <td>12.6</td>\n",
       "      <td>Mid-range product</td>\n",
       "      <td>two_slowest days</td>\n",
       "      <td>Most orders</td>\n",
       "    </tr>\n",
       "  </tbody>\n",
       "</table>\n",
       "<p>5 rows × 27 columns</p>\n",
       "</div>"
      ],
      "text/plain": [
       "   user_id First Name    Surnam  Gender     STATE  Age date_joined  \\\n",
       "0    26711    Deborah  Esquivel  Female  Missouri   48    1/1/2017   \n",
       "1    26711    Deborah  Esquivel  Female  Missouri   48    1/1/2017   \n",
       "2    26711    Deborah  Esquivel  Female  Missouri   48    1/1/2017   \n",
       "3    26711    Deborah  Esquivel  Female  Missouri   48    1/1/2017   \n",
       "4    26711    Deborah  Esquivel  Female  Missouri   48    1/1/2017   \n",
       "\n",
       "   n_dependants fam_status  income  ... add_to_cart_order  reordered  _merge  \\\n",
       "0             3    married  165665  ...                 2          0    both   \n",
       "1             3    married  165665  ...                 1          1    both   \n",
       "2             3    married  165665  ...                 2          1    both   \n",
       "3             3    married  165665  ...                 1          0    both   \n",
       "4             3    married  165665  ...                 1          1    both   \n",
       "\n",
       "               product_name  aisle_id  department_id  prices  \\\n",
       "0                      Soda        77              7     9.0   \n",
       "1                      Soda        77              7     9.0   \n",
       "2                      Soda        77              7     9.0   \n",
       "3  0% Greek Strained Yogurt       120             16    12.6   \n",
       "4  0% Greek Strained Yogurt       120             16    12.6   \n",
       "\n",
       "         price_range       Busiest_day busiest_period_of_day  \n",
       "0  Mid-range product  two_busiest days           Most orders  \n",
       "1  Mid-range product    regularly busy           Most orders  \n",
       "2  Mid-range product  two_busiest days           Most orders  \n",
       "3  Mid-range product    regularly busy           Most orders  \n",
       "4  Mid-range product  two_slowest days           Most orders  \n",
       "\n",
       "[5 rows x 27 columns]"
      ]
     },
     "execution_count": 6,
     "metadata": {},
     "output_type": "execute_result"
    }
   ],
   "source": [
    "# Checking head\n",
    "cus_ord.head()"
   ]
  },
  {
   "cell_type": "markdown",
   "id": "a7090124",
   "metadata": {},
   "source": [
    "# Question 2.\n",
    "In this Exercise, you learned how to find the aggregated mean of the “order_number” column grouped by “department_id” for a subset of your dataframe. Now, repeat this process for the entire dataframe."
   ]
  },
  {
   "cell_type": "code",
   "execution_count": 7,
   "id": "74b7f5f9",
   "metadata": {},
   "outputs": [],
   "source": [
    "# Create a subset\n",
    "df = cus_ord[:1000000]"
   ]
  },
  {
   "cell_type": "code",
   "execution_count": 8,
   "id": "0e3ceda6",
   "metadata": {},
   "outputs": [
    {
     "data": {
      "text/html": [
       "<div>\n",
       "<style scoped>\n",
       "    .dataframe tbody tr th:only-of-type {\n",
       "        vertical-align: middle;\n",
       "    }\n",
       "\n",
       "    .dataframe tbody tr th {\n",
       "        vertical-align: top;\n",
       "    }\n",
       "\n",
       "    .dataframe thead tr th {\n",
       "        text-align: left;\n",
       "    }\n",
       "\n",
       "    .dataframe thead tr:last-of-type th {\n",
       "        text-align: right;\n",
       "    }\n",
       "</style>\n",
       "<table border=\"1\" class=\"dataframe\">\n",
       "  <thead>\n",
       "    <tr>\n",
       "      <th></th>\n",
       "      <th>order_number</th>\n",
       "    </tr>\n",
       "    <tr>\n",
       "      <th></th>\n",
       "      <th>mean</th>\n",
       "    </tr>\n",
       "    <tr>\n",
       "      <th>department_id</th>\n",
       "      <th></th>\n",
       "    </tr>\n",
       "  </thead>\n",
       "  <tbody>\n",
       "    <tr>\n",
       "      <th>1</th>\n",
       "      <td>16.025666</td>\n",
       "    </tr>\n",
       "    <tr>\n",
       "      <th>2</th>\n",
       "      <td>17.550218</td>\n",
       "    </tr>\n",
       "    <tr>\n",
       "      <th>3</th>\n",
       "      <td>17.141279</td>\n",
       "    </tr>\n",
       "    <tr>\n",
       "      <th>4</th>\n",
       "      <td>17.725824</td>\n",
       "    </tr>\n",
       "    <tr>\n",
       "      <th>5</th>\n",
       "      <td>14.868841</td>\n",
       "    </tr>\n",
       "    <tr>\n",
       "      <th>6</th>\n",
       "      <td>17.622972</td>\n",
       "    </tr>\n",
       "    <tr>\n",
       "      <th>7</th>\n",
       "      <td>17.594444</td>\n",
       "    </tr>\n",
       "    <tr>\n",
       "      <th>8</th>\n",
       "      <td>16.545540</td>\n",
       "    </tr>\n",
       "    <tr>\n",
       "      <th>9</th>\n",
       "      <td>15.759112</td>\n",
       "    </tr>\n",
       "    <tr>\n",
       "      <th>10</th>\n",
       "      <td>20.020735</td>\n",
       "    </tr>\n",
       "    <tr>\n",
       "      <th>11</th>\n",
       "      <td>16.381336</td>\n",
       "    </tr>\n",
       "    <tr>\n",
       "      <th>12</th>\n",
       "      <td>15.729600</td>\n",
       "    </tr>\n",
       "    <tr>\n",
       "      <th>13</th>\n",
       "      <td>16.801841</td>\n",
       "    </tr>\n",
       "    <tr>\n",
       "      <th>14</th>\n",
       "      <td>17.446274</td>\n",
       "    </tr>\n",
       "    <tr>\n",
       "      <th>15</th>\n",
       "      <td>16.646871</td>\n",
       "    </tr>\n",
       "    <tr>\n",
       "      <th>16</th>\n",
       "      <td>17.653640</td>\n",
       "    </tr>\n",
       "    <tr>\n",
       "      <th>17</th>\n",
       "      <td>15.944499</td>\n",
       "    </tr>\n",
       "    <tr>\n",
       "      <th>18</th>\n",
       "      <td>18.056148</td>\n",
       "    </tr>\n",
       "    <tr>\n",
       "      <th>19</th>\n",
       "      <td>17.463125</td>\n",
       "    </tr>\n",
       "    <tr>\n",
       "      <th>20</th>\n",
       "      <td>16.964986</td>\n",
       "    </tr>\n",
       "    <tr>\n",
       "      <th>21</th>\n",
       "      <td>23.607955</td>\n",
       "    </tr>\n",
       "  </tbody>\n",
       "</table>\n",
       "</div>"
      ],
      "text/plain": [
       "              order_number\n",
       "                      mean\n",
       "department_id             \n",
       "1                16.025666\n",
       "2                17.550218\n",
       "3                17.141279\n",
       "4                17.725824\n",
       "5                14.868841\n",
       "6                17.622972\n",
       "7                17.594444\n",
       "8                16.545540\n",
       "9                15.759112\n",
       "10               20.020735\n",
       "11               16.381336\n",
       "12               15.729600\n",
       "13               16.801841\n",
       "14               17.446274\n",
       "15               16.646871\n",
       "16               17.653640\n",
       "17               15.944499\n",
       "18               18.056148\n",
       "19               17.463125\n",
       "20               16.964986\n",
       "21               23.607955"
      ]
     },
     "execution_count": 8,
     "metadata": {},
     "output_type": "execute_result"
    }
   ],
   "source": [
    "df.groupby('department_id').agg({'order_number':['mean']})"
   ]
  },
  {
   "cell_type": "code",
   "execution_count": 10,
   "id": "3b793cf9",
   "metadata": {},
   "outputs": [
    {
     "data": {
      "text/html": [
       "<div>\n",
       "<style scoped>\n",
       "    .dataframe tbody tr th:only-of-type {\n",
       "        vertical-align: middle;\n",
       "    }\n",
       "\n",
       "    .dataframe tbody tr th {\n",
       "        vertical-align: top;\n",
       "    }\n",
       "\n",
       "    .dataframe thead tr th {\n",
       "        text-align: left;\n",
       "    }\n",
       "\n",
       "    .dataframe thead tr:last-of-type th {\n",
       "        text-align: right;\n",
       "    }\n",
       "</style>\n",
       "<table border=\"1\" class=\"dataframe\">\n",
       "  <thead>\n",
       "    <tr>\n",
       "      <th></th>\n",
       "      <th>order_number</th>\n",
       "    </tr>\n",
       "    <tr>\n",
       "      <th></th>\n",
       "      <th>mean</th>\n",
       "    </tr>\n",
       "    <tr>\n",
       "      <th>department_id</th>\n",
       "      <th></th>\n",
       "    </tr>\n",
       "  </thead>\n",
       "  <tbody>\n",
       "    <tr>\n",
       "      <th>1</th>\n",
       "      <td>15.457838</td>\n",
       "    </tr>\n",
       "    <tr>\n",
       "      <th>2</th>\n",
       "      <td>17.277920</td>\n",
       "    </tr>\n",
       "    <tr>\n",
       "      <th>3</th>\n",
       "      <td>17.170395</td>\n",
       "    </tr>\n",
       "    <tr>\n",
       "      <th>4</th>\n",
       "      <td>17.811403</td>\n",
       "    </tr>\n",
       "    <tr>\n",
       "      <th>5</th>\n",
       "      <td>15.215751</td>\n",
       "    </tr>\n",
       "    <tr>\n",
       "      <th>6</th>\n",
       "      <td>16.439806</td>\n",
       "    </tr>\n",
       "    <tr>\n",
       "      <th>7</th>\n",
       "      <td>17.225802</td>\n",
       "    </tr>\n",
       "    <tr>\n",
       "      <th>8</th>\n",
       "      <td>15.340650</td>\n",
       "    </tr>\n",
       "    <tr>\n",
       "      <th>9</th>\n",
       "      <td>15.895474</td>\n",
       "    </tr>\n",
       "    <tr>\n",
       "      <th>10</th>\n",
       "      <td>20.197148</td>\n",
       "    </tr>\n",
       "    <tr>\n",
       "      <th>11</th>\n",
       "      <td>16.170638</td>\n",
       "    </tr>\n",
       "    <tr>\n",
       "      <th>12</th>\n",
       "      <td>15.887671</td>\n",
       "    </tr>\n",
       "    <tr>\n",
       "      <th>13</th>\n",
       "      <td>16.583536</td>\n",
       "    </tr>\n",
       "    <tr>\n",
       "      <th>14</th>\n",
       "      <td>16.773669</td>\n",
       "    </tr>\n",
       "    <tr>\n",
       "      <th>15</th>\n",
       "      <td>16.165037</td>\n",
       "    </tr>\n",
       "    <tr>\n",
       "      <th>16</th>\n",
       "      <td>17.667853</td>\n",
       "    </tr>\n",
       "    <tr>\n",
       "      <th>17</th>\n",
       "      <td>15.694469</td>\n",
       "    </tr>\n",
       "    <tr>\n",
       "      <th>18</th>\n",
       "      <td>19.310397</td>\n",
       "    </tr>\n",
       "    <tr>\n",
       "      <th>19</th>\n",
       "      <td>17.177343</td>\n",
       "    </tr>\n",
       "    <tr>\n",
       "      <th>20</th>\n",
       "      <td>16.473447</td>\n",
       "    </tr>\n",
       "    <tr>\n",
       "      <th>21</th>\n",
       "      <td>22.902379</td>\n",
       "    </tr>\n",
       "  </tbody>\n",
       "</table>\n",
       "</div>"
      ],
      "text/plain": [
       "              order_number\n",
       "                      mean\n",
       "department_id             \n",
       "1                15.457838\n",
       "2                17.277920\n",
       "3                17.170395\n",
       "4                17.811403\n",
       "5                15.215751\n",
       "6                16.439806\n",
       "7                17.225802\n",
       "8                15.340650\n",
       "9                15.895474\n",
       "10               20.197148\n",
       "11               16.170638\n",
       "12               15.887671\n",
       "13               16.583536\n",
       "14               16.773669\n",
       "15               16.165037\n",
       "16               17.667853\n",
       "17               15.694469\n",
       "18               19.310397\n",
       "19               17.177343\n",
       "20               16.473447\n",
       "21               22.902379"
      ]
     },
     "execution_count": 10,
     "metadata": {},
     "output_type": "execute_result"
    }
   ],
   "source": [
    "# Using Groupby function fro the entire dataframe\n",
    "cus_ord.groupby('department_id').agg({'order_number':['mean']})"
   ]
  },
  {
   "cell_type": "markdown",
   "id": "f4ab64a7",
   "metadata": {},
   "source": [
    "# Question 3.\n",
    "Analyze the result. How do the results for the entire dataframe differ from those of the subset? Include your comments in a markdown cell below the executed code."
   ]
  },
  {
   "cell_type": "markdown",
   "id": "8d4300da",
   "metadata": {},
   "source": [
    "### Answer: The subset we created contains 1,000,000 rows, and those rows only include part of the 'department_id'. We shorted some of the 'department_id' compare with the entire dataframe, and also for the mean for every single 'department_id' is different, some of them are greater than the entire dataframe and some of them are less."
   ]
  },
  {
   "cell_type": "markdown",
   "id": "20799cc5",
   "metadata": {},
   "source": [
    "# Question 4.\n",
    "Follow the instructions in the Exercise for creating a loyalty flag for existing customers using the transform() and loc() functions."
   ]
  },
  {
   "cell_type": "markdown",
   "id": "9f5deaef",
   "metadata": {},
   "source": [
    "#### Step 1. Using transform()function to create a new_column named as 'max_order'"
   ]
  },
  {
   "cell_type": "code",
   "execution_count": 12,
   "id": "c0501c9b",
   "metadata": {},
   "outputs": [],
   "source": [
    "cus_ord['max_order'] = cus_ord.groupby(['user_id'])['order_number'].transform(np.max)"
   ]
  },
  {
   "cell_type": "markdown",
   "id": "3f784d47",
   "metadata": {},
   "source": [
    "#### Step 2. Using loc() to create the 'loyalty_flag' based on the criteria we were gaven."
   ]
  },
  {
   "cell_type": "code",
   "execution_count": 13,
   "id": "457f99bb",
   "metadata": {},
   "outputs": [],
   "source": [
    "cus_ord.loc[cus_ord['max_order'] > 40, 'loyalty_flag'] = 'loyal customer'"
   ]
  },
  {
   "cell_type": "code",
   "execution_count": 16,
   "id": "cfe88746",
   "metadata": {},
   "outputs": [],
   "source": [
    "cus_ord.loc[(cus_ord['max_order'] <= 40) & (cus_ord['max_order'] > 10), 'loyalty_flag'] = 'regular customer'"
   ]
  },
  {
   "cell_type": "code",
   "execution_count": 17,
   "id": "bcc99fbe",
   "metadata": {},
   "outputs": [],
   "source": [
    "cus_ord.loc[cus_ord['max_order'] <= 10, 'loyalty_flag'] = 'new customer'"
   ]
  },
  {
   "cell_type": "code",
   "execution_count": 18,
   "id": "fa2dfcaa",
   "metadata": {},
   "outputs": [
    {
     "data": {
      "text/plain": [
       "regular customer    15874128\n",
       "loyal customer      10282763\n",
       "new customer         6242841\n",
       "Name: loyalty_flag, dtype: int64"
      ]
     },
     "execution_count": 18,
     "metadata": {},
     "output_type": "execute_result"
    }
   ],
   "source": [
    "cus_ord['loyalty_flag'].value_counts()"
   ]
  },
  {
   "cell_type": "code",
   "execution_count": 19,
   "id": "9e8e7354",
   "metadata": {},
   "outputs": [
    {
     "data": {
      "text/plain": [
       "(32399732, 29)"
      ]
     },
     "execution_count": 19,
     "metadata": {},
     "output_type": "execute_result"
    }
   ],
   "source": [
    "cus_ord.shape"
   ]
  },
  {
   "cell_type": "markdown",
   "id": "c3cb3d6b",
   "metadata": {},
   "source": [
    "# Question 5.\n",
    "The marketing team at Instacart wants to know whether there’s a difference between the spending habits of the three types of customers you identified. Use the loyalty flag you created and check the basic statistics of the product prices for each loyalty category (Loyal Customer, Regular Customer, and New Customer). What you’re trying to determine is whether the prices of products purchased by loyal customers differ from those purchased by regular or new customers."
   ]
  },
  {
   "cell_type": "code",
   "execution_count": 20,
   "id": "f08e3349",
   "metadata": {},
   "outputs": [
    {
     "name": "stdout",
     "output_type": "stream",
     "text": [
      "<pandas.core.groupby.generic.DataFrameGroupBy object at 0x0000021841910E20>\n"
     ]
    }
   ],
   "source": [
    "# First, using groupby function to create groups by the 'loyalty_flag'\n",
    "cus_ord_loy = cus_ord.groupby('loyalty_flag')\n",
    "print(cus_ord_loy)"
   ]
  },
  {
   "cell_type": "code",
   "execution_count": 21,
   "id": "2e93a95a",
   "metadata": {},
   "outputs": [
    {
     "data": {
      "text/plain": [
       "loyalty_flag\n",
       "loyal customer      7.773575\n",
       "new customer        7.801206\n",
       "regular customer    7.798262\n",
       "Name: prices, dtype: float64"
      ]
     },
     "execution_count": 21,
     "metadata": {},
     "output_type": "execute_result"
    }
   ],
   "source": [
    "# Second, under this created group, check the price whether differ among thses customers.\n",
    "cus_ord_loy['prices'].mean()"
   ]
  },
  {
   "cell_type": "code",
   "execution_count": 22,
   "id": "d02bee25",
   "metadata": {},
   "outputs": [
    {
     "data": {
      "text/html": [
       "<div>\n",
       "<style scoped>\n",
       "    .dataframe tbody tr th:only-of-type {\n",
       "        vertical-align: middle;\n",
       "    }\n",
       "\n",
       "    .dataframe tbody tr th {\n",
       "        vertical-align: top;\n",
       "    }\n",
       "\n",
       "    .dataframe thead tr th {\n",
       "        text-align: left;\n",
       "    }\n",
       "\n",
       "    .dataframe thead tr:last-of-type th {\n",
       "        text-align: right;\n",
       "    }\n",
       "</style>\n",
       "<table border=\"1\" class=\"dataframe\">\n",
       "  <thead>\n",
       "    <tr>\n",
       "      <th></th>\n",
       "      <th>prices</th>\n",
       "    </tr>\n",
       "    <tr>\n",
       "      <th></th>\n",
       "      <th>mean</th>\n",
       "    </tr>\n",
       "    <tr>\n",
       "      <th>loyalty_flag</th>\n",
       "      <th></th>\n",
       "    </tr>\n",
       "  </thead>\n",
       "  <tbody>\n",
       "    <tr>\n",
       "      <th>loyal customer</th>\n",
       "      <td>7.773575</td>\n",
       "    </tr>\n",
       "    <tr>\n",
       "      <th>new customer</th>\n",
       "      <td>7.801206</td>\n",
       "    </tr>\n",
       "    <tr>\n",
       "      <th>regular customer</th>\n",
       "      <td>7.798262</td>\n",
       "    </tr>\n",
       "  </tbody>\n",
       "</table>\n",
       "</div>"
      ],
      "text/plain": [
       "                    prices\n",
       "                      mean\n",
       "loyalty_flag              \n",
       "loyal customer    7.773575\n",
       "new customer      7.801206\n",
       "regular customer  7.798262"
      ]
     },
     "execution_count": 22,
     "metadata": {},
     "output_type": "execute_result"
    }
   ],
   "source": [
    "# Or we can group direcly without create new dataframe\n",
    "cus_ord.groupby('loyalty_flag').agg({'prices':['mean']})"
   ]
  },
  {
   "cell_type": "markdown",
   "id": "7967d3b4",
   "metadata": {},
   "source": [
    "## Here,the answer is clear that there is no big difference from the loyalty group."
   ]
  },
  {
   "cell_type": "markdown",
   "id": "8ed6009e",
   "metadata": {},
   "source": [
    "# Question 6.\n",
    "The team now wants to target different types of spenders in their marketing campaigns. This can be achieved by looking at the prices of the items people are buying. Create a spending flag for each user based on the average price across all their orders using the following criteria:\n",
    "\n",
    "If the mean of the prices of products purchased by a user is lower than 10, then flag them as a “Low spender.”\n",
    "\n",
    "If the mean of the prices of products purchased by a user is higher than or equal to 10, then flag them as a “High spender.”"
   ]
  },
  {
   "cell_type": "markdown",
   "id": "6e5d7a8f",
   "metadata": {},
   "source": [
    "#### Step 1. Create a new column named as 'average_price' by using the transform() function"
   ]
  },
  {
   "cell_type": "code",
   "execution_count": 23,
   "id": "2a68f32e",
   "metadata": {},
   "outputs": [],
   "source": [
    "cus_ord['average_price'] = cus_ord.groupby(['user_id'])['prices'].transform(np.mean)"
   ]
  },
  {
   "cell_type": "markdown",
   "id": "57aec409",
   "metadata": {},
   "source": [
    "#### Step 2. Create a spending flag based on the new column we created"
   ]
  },
  {
   "cell_type": "code",
   "execution_count": 24,
   "id": "3e08e895",
   "metadata": {},
   "outputs": [],
   "source": [
    "# Here I will use fro-loop function\n",
    "\n",
    "spend = []\n",
    "for value in cus_ord['average_price']:\n",
    "    if value < 10:\n",
    "        spend.append('low spender')\n",
    "    elif value >= 10:\n",
    "        spend.append('high spender')\n",
    "    else:\n",
    "        spend.append('no data')"
   ]
  },
  {
   "cell_type": "code",
   "execution_count": 25,
   "id": "15e6ea4b",
   "metadata": {},
   "outputs": [],
   "source": [
    "cus_ord['spending_flag'] = spend"
   ]
  },
  {
   "cell_type": "code",
   "execution_count": 26,
   "id": "40103e35",
   "metadata": {},
   "outputs": [
    {
     "data": {
      "text/html": [
       "<div>\n",
       "<style scoped>\n",
       "    .dataframe tbody tr th:only-of-type {\n",
       "        vertical-align: middle;\n",
       "    }\n",
       "\n",
       "    .dataframe tbody tr th {\n",
       "        vertical-align: top;\n",
       "    }\n",
       "\n",
       "    .dataframe thead th {\n",
       "        text-align: right;\n",
       "    }\n",
       "</style>\n",
       "<table border=\"1\" class=\"dataframe\">\n",
       "  <thead>\n",
       "    <tr style=\"text-align: right;\">\n",
       "      <th></th>\n",
       "      <th>user_id</th>\n",
       "      <th>First Name</th>\n",
       "      <th>Surnam</th>\n",
       "      <th>Gender</th>\n",
       "      <th>STATE</th>\n",
       "      <th>Age</th>\n",
       "      <th>date_joined</th>\n",
       "      <th>n_dependants</th>\n",
       "      <th>fam_status</th>\n",
       "      <th>income</th>\n",
       "      <th>...</th>\n",
       "      <th>aisle_id</th>\n",
       "      <th>department_id</th>\n",
       "      <th>prices</th>\n",
       "      <th>price_range</th>\n",
       "      <th>Busiest_day</th>\n",
       "      <th>busiest_period_of_day</th>\n",
       "      <th>max_order</th>\n",
       "      <th>loyalty_flag</th>\n",
       "      <th>average_price</th>\n",
       "      <th>spending_flag</th>\n",
       "    </tr>\n",
       "  </thead>\n",
       "  <tbody>\n",
       "    <tr>\n",
       "      <th>0</th>\n",
       "      <td>26711</td>\n",
       "      <td>Deborah</td>\n",
       "      <td>Esquivel</td>\n",
       "      <td>Female</td>\n",
       "      <td>Missouri</td>\n",
       "      <td>48</td>\n",
       "      <td>1/1/2017</td>\n",
       "      <td>3</td>\n",
       "      <td>married</td>\n",
       "      <td>165665</td>\n",
       "      <td>...</td>\n",
       "      <td>77</td>\n",
       "      <td>7</td>\n",
       "      <td>9.0</td>\n",
       "      <td>Mid-range product</td>\n",
       "      <td>two_busiest days</td>\n",
       "      <td>Most orders</td>\n",
       "      <td>8</td>\n",
       "      <td>new customer</td>\n",
       "      <td>7.988889</td>\n",
       "      <td>low spender</td>\n",
       "    </tr>\n",
       "    <tr>\n",
       "      <th>1</th>\n",
       "      <td>26711</td>\n",
       "      <td>Deborah</td>\n",
       "      <td>Esquivel</td>\n",
       "      <td>Female</td>\n",
       "      <td>Missouri</td>\n",
       "      <td>48</td>\n",
       "      <td>1/1/2017</td>\n",
       "      <td>3</td>\n",
       "      <td>married</td>\n",
       "      <td>165665</td>\n",
       "      <td>...</td>\n",
       "      <td>77</td>\n",
       "      <td>7</td>\n",
       "      <td>9.0</td>\n",
       "      <td>Mid-range product</td>\n",
       "      <td>regularly busy</td>\n",
       "      <td>Most orders</td>\n",
       "      <td>8</td>\n",
       "      <td>new customer</td>\n",
       "      <td>7.988889</td>\n",
       "      <td>low spender</td>\n",
       "    </tr>\n",
       "  </tbody>\n",
       "</table>\n",
       "<p>2 rows × 31 columns</p>\n",
       "</div>"
      ],
      "text/plain": [
       "   user_id First Name    Surnam  Gender     STATE  Age date_joined  \\\n",
       "0    26711    Deborah  Esquivel  Female  Missouri   48    1/1/2017   \n",
       "1    26711    Deborah  Esquivel  Female  Missouri   48    1/1/2017   \n",
       "\n",
       "   n_dependants fam_status  income  ... aisle_id  department_id  prices  \\\n",
       "0             3    married  165665  ...       77              7     9.0   \n",
       "1             3    married  165665  ...       77              7     9.0   \n",
       "\n",
       "         price_range       Busiest_day  busiest_period_of_day  max_order  \\\n",
       "0  Mid-range product  two_busiest days            Most orders          8   \n",
       "1  Mid-range product    regularly busy            Most orders          8   \n",
       "\n",
       "   loyalty_flag  average_price spending_flag  \n",
       "0  new customer       7.988889   low spender  \n",
       "1  new customer       7.988889   low spender  \n",
       "\n",
       "[2 rows x 31 columns]"
      ]
     },
     "execution_count": 26,
     "metadata": {},
     "output_type": "execute_result"
    }
   ],
   "source": [
    "cus_ord.head(2)"
   ]
  },
  {
   "cell_type": "markdown",
   "id": "69432eb3",
   "metadata": {},
   "source": [
    "# Question 7.\n",
    "In order to send relevant notifications to users within the app (for instance, asking users if they want to buy the same item again), the Instacart team wants you to determine frequent versus non-frequent customers. Create an order frequency flag that marks the regularity of a user’s ordering behavior according to the median in the “days_since_prior_order” column. The criteria for the flag should be as follows:\n",
    "\n",
    "If the median of “days_since_prior_order” is higher than 20, then the customer should be labeled a “Non-frequent customer.”\n",
    "\n",
    "If the median is higher than 10 and lower than or equal to 20, then the customer should be labeled a “Regular customer.”\n",
    "\n",
    "If the median is lower than or equal to 10, then the customer should be labeled a “Frequent customer.”"
   ]
  },
  {
   "cell_type": "markdown",
   "id": "b63e4720",
   "metadata": {},
   "source": [
    "#### Step 1.   Create a new column named as 'median_days_since_prior_orderr' by using the transform() function"
   ]
  },
  {
   "cell_type": "code",
   "execution_count": 27,
   "id": "82cedf2a",
   "metadata": {},
   "outputs": [],
   "source": [
    "cus_ord['median_days_since_prior_order'] = cus_ord.groupby(['user_id'])['days_since_prior_order'].transform(np.median)"
   ]
  },
  {
   "cell_type": "markdown",
   "id": "5055ce4f",
   "metadata": {},
   "source": [
    "#### Step 2. Create a order frequency flag based on the new column"
   ]
  },
  {
   "cell_type": "code",
   "execution_count": 29,
   "id": "100c354b",
   "metadata": {},
   "outputs": [],
   "source": [
    "cus_ord.loc[cus_ord['median_days_since_prior_order'] > 20, 'frequency_flag'] = 'Non-frequent customer'"
   ]
  },
  {
   "cell_type": "code",
   "execution_count": 30,
   "id": "1cb7a38d",
   "metadata": {},
   "outputs": [],
   "source": [
    "cus_ord.loc[(cus_ord['median_days_since_prior_order'] > 10) & (cus_ord['median_days_since_prior_order'] <= 20), 'frequency_flag'] = 'Regular customer'"
   ]
  },
  {
   "cell_type": "code",
   "execution_count": 33,
   "id": "e2ab19ab",
   "metadata": {},
   "outputs": [],
   "source": [
    "cus_ord.loc[cus_ord['median_days_since_prior_order'] <= 10, 'frequency_flag'] = 'Frequent customer'"
   ]
  },
  {
   "cell_type": "code",
   "execution_count": 34,
   "id": "78c58457",
   "metadata": {},
   "outputs": [
    {
     "data": {
      "text/plain": [
       "Frequent customer        22787089\n",
       "Regular customer          6926670\n",
       "Non-frequent customer     2685973\n",
       "Name: frequency_flag, dtype: int64"
      ]
     },
     "execution_count": 34,
     "metadata": {},
     "output_type": "execute_result"
    }
   ],
   "source": [
    "cus_ord['frequency_flag'].value_counts()"
   ]
  },
  {
   "cell_type": "markdown",
   "id": "04834def",
   "metadata": {},
   "source": [
    "# Export the dataframe as a pickle file"
   ]
  },
  {
   "cell_type": "code",
   "execution_count": 35,
   "id": "7a0cad10",
   "metadata": {},
   "outputs": [],
   "source": [
    "cus_ord.to_pickle(os.path.join(path,'final_cus_ord.pkl'))"
   ]
  }
 ],
 "metadata": {
  "kernelspec": {
   "display_name": "Python 3 (ipykernel)",
   "language": "python",
   "name": "python3"
  },
  "language_info": {
   "codemirror_mode": {
    "name": "ipython",
    "version": 3
   },
   "file_extension": ".py",
   "mimetype": "text/x-python",
   "name": "python",
   "nbconvert_exporter": "python",
   "pygments_lexer": "ipython3",
   "version": "3.9.12"
  }
 },
 "nbformat": 4,
 "nbformat_minor": 5
}
