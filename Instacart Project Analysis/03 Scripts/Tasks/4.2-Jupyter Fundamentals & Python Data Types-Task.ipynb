{
 "cells": [
  {
   "cell_type": "code",
   "execution_count": 1,
   "id": "70ebb898",
   "metadata": {},
   "outputs": [],
   "source": [
    "# 01. Importing libraries\n",
    "import pandas as pd\n",
    "import numpy as np\n",
    "import os "
   ]
  },
  {
   "cell_type": "code",
   "execution_count": null,
   "id": "bdf7df74",
   "metadata": {},
   "outputs": [],
   "source": [
    "# 02. Python Data Types"
   ]
  },
  {
   "cell_type": "code",
   "execution_count": 2,
   "id": "06ab4df4",
   "metadata": {},
   "outputs": [],
   "source": [
    "n=100"
   ]
  },
  {
   "cell_type": "code",
   "execution_count": 3,
   "id": "238d41a5",
   "metadata": {},
   "outputs": [
    {
     "name": "stdout",
     "output_type": "stream",
     "text": [
      "100\n"
     ]
    }
   ],
   "source": [
    "print(n)"
   ]
  },
  {
   "cell_type": "code",
   "execution_count": 4,
   "id": "ca7ada35",
   "metadata": {},
   "outputs": [],
   "source": [
    "x=45"
   ]
  },
  {
   "cell_type": "code",
   "execution_count": 5,
   "id": "d910f1c2",
   "metadata": {},
   "outputs": [],
   "source": [
    "y=55"
   ]
  },
  {
   "cell_type": "code",
   "execution_count": 6,
   "id": "1e1a2468",
   "metadata": {},
   "outputs": [
    {
     "data": {
      "text/plain": [
       "100"
      ]
     },
     "execution_count": 6,
     "metadata": {},
     "output_type": "execute_result"
    }
   ],
   "source": [
    "x+y"
   ]
  },
  {
   "cell_type": "code",
   "execution_count": 7,
   "id": "bb1a15f1",
   "metadata": {},
   "outputs": [
    {
     "name": "stdout",
     "output_type": "stream",
     "text": [
      "100\n"
     ]
    }
   ],
   "source": [
    "print(25*4)"
   ]
  },
  {
   "cell_type": "code",
   "execution_count": 8,
   "id": "70209ec1",
   "metadata": {},
   "outputs": [],
   "source": [
    "x=199.87"
   ]
  },
  {
   "cell_type": "code",
   "execution_count": 9,
   "id": "2879f8ba",
   "metadata": {},
   "outputs": [],
   "source": [
    "y=28.79"
   ]
  },
  {
   "cell_type": "code",
   "execution_count": 10,
   "id": "58f4e656",
   "metadata": {},
   "outputs": [
    {
     "name": "stdout",
     "output_type": "stream",
     "text": [
      "6.942341090656479\n"
     ]
    }
   ],
   "source": [
    "print(x/y)"
   ]
  },
  {
   "cell_type": "code",
   "execution_count": 11,
   "id": "a82281bd",
   "metadata": {},
   "outputs": [
    {
     "name": "stdout",
     "output_type": "stream",
     "text": [
      "0.14404362835843298\n"
     ]
    }
   ],
   "source": [
    "print(y/x)"
   ]
  },
  {
   "cell_type": "code",
   "execution_count": 22,
   "id": "54a4ecba",
   "metadata": {},
   "outputs": [],
   "source": [
    "d='Hello word,'+'good day!'"
   ]
  },
  {
   "cell_type": "code",
   "execution_count": 23,
   "id": "8e40c118",
   "metadata": {},
   "outputs": [
    {
     "name": "stdout",
     "output_type": "stream",
     "text": [
      "Hello word,good day!\n"
     ]
    }
   ],
   "source": [
    "print(d)"
   ]
  },
  {
   "cell_type": "code",
   "execution_count": 7,
   "id": "160c406b",
   "metadata": {},
   "outputs": [],
   "source": [
    "a='I like being a student with CareerFoundry,'"
   ]
  },
  {
   "cell_type": "code",
   "execution_count": 8,
   "id": "c9cf301e",
   "metadata": {},
   "outputs": [],
   "source": [
    "b='those teachers are all fantastic,'"
   ]
  },
  {
   "cell_type": "code",
   "execution_count": 11,
   "id": "cec23518",
   "metadata": {},
   "outputs": [],
   "source": [
    "c='they all have '+str(10) +' more years teaching experiences!'"
   ]
  },
  {
   "cell_type": "code",
   "execution_count": 12,
   "id": "de0b8f96",
   "metadata": {},
   "outputs": [
    {
     "name": "stdout",
     "output_type": "stream",
     "text": [
      "I like being a student with CareerFoundry,those teachers are all fantastic,they all have 10 more years teaching experiences!\n"
     ]
    }
   ],
   "source": [
    "print(a+b+c)"
   ]
  },
  {
   "cell_type": "code",
   "execution_count": 24,
   "id": "2ea13975",
   "metadata": {},
   "outputs": [],
   "source": [
    "#03. Bonus Task"
   ]
  },
  {
   "cell_type": "code",
   "execution_count": 25,
   "id": "be01ced7",
   "metadata": {},
   "outputs": [],
   "source": [
    "e='Raymond is handsome'"
   ]
  },
  {
   "cell_type": "code",
   "execution_count": 26,
   "id": "ba1eed31",
   "metadata": {},
   "outputs": [
    {
     "name": "stdout",
     "output_type": "stream",
     "text": [
      "Raymond is handsomeRaymond is handsomeRaymond is handsomeRaymond is handsomeRaymond is handsomeRaymond is handsomeRaymond is handsomeRaymond is handsomeRaymond is handsomeRaymond is handsomeRaymond is handsomeRaymond is handsomeRaymond is handsomeRaymond is handsomeRaymond is handsomeRaymond is handsomeRaymond is handsomeRaymond is handsomeRaymond is handsomeRaymond is handsomeRaymond is handsomeRaymond is handsomeRaymond is handsomeRaymond is handsomeRaymond is handsomeRaymond is handsomeRaymond is handsomeRaymond is handsomeRaymond is handsomeRaymond is handsomeRaymond is handsomeRaymond is handsomeRaymond is handsomeRaymond is handsomeRaymond is handsomeRaymond is handsomeRaymond is handsomeRaymond is handsomeRaymond is handsomeRaymond is handsomeRaymond is handsomeRaymond is handsomeRaymond is handsomeRaymond is handsomeRaymond is handsomeRaymond is handsomeRaymond is handsomeRaymond is handsomeRaymond is handsomeRaymond is handsomeRaymond is handsomeRaymond is handsomeRaymond is handsomeRaymond is handsomeRaymond is handsomeRaymond is handsomeRaymond is handsomeRaymond is handsomeRaymond is handsomeRaymond is handsomeRaymond is handsomeRaymond is handsomeRaymond is handsomeRaymond is handsomeRaymond is handsomeRaymond is handsomeRaymond is handsomeRaymond is handsomeRaymond is handsomeRaymond is handsomeRaymond is handsomeRaymond is handsomeRaymond is handsomeRaymond is handsomeRaymond is handsomeRaymond is handsomeRaymond is handsomeRaymond is handsomeRaymond is handsomeRaymond is handsomeRaymond is handsomeRaymond is handsomeRaymond is handsomeRaymond is handsomeRaymond is handsomeRaymond is handsomeRaymond is handsomeRaymond is handsomeRaymond is handsomeRaymond is handsomeRaymond is handsomeRaymond is handsomeRaymond is handsomeRaymond is handsomeRaymond is handsomeRaymond is handsomeRaymond is handsomeRaymond is handsomeRaymond is handsomeRaymond is handsome\n"
     ]
    }
   ],
   "source": [
    "print(e*100)"
   ]
  }
 ],
 "metadata": {
  "kernelspec": {
   "display_name": "Python 3 (ipykernel)",
   "language": "python",
   "name": "python3"
  },
  "language_info": {
   "codemirror_mode": {
    "name": "ipython",
    "version": 3
   },
   "file_extension": ".py",
   "mimetype": "text/x-python",
   "name": "python",
   "nbconvert_exporter": "python",
   "pygments_lexer": "ipython3",
   "version": "3.9.12"
  }
 },
 "nbformat": 4,
 "nbformat_minor": 5
}
